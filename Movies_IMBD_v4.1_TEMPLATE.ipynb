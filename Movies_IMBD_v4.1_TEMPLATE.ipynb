{
 "cells": [
  {
   "cell_type": "code",
   "execution_count": 1,
   "metadata": {
    "_cell_guid": "b1076dfc-b9ad-4769-8c92-a6c4dae69d19",
    "_uuid": "8f2839f25d086af736a60e9eeb907d3b93b6e0e5",
    "colab": {},
    "colab_type": "code",
    "id": "U2D2gTdJVp90"
   },
   "outputs": [],
   "source": [
    "import numpy as np\n",
    "import pandas as pd\n",
    "import seaborn as sns\n",
    "import matplotlib.pyplot as plt\n",
    "from collections import Counter\n",
    "import itertools"
   ]
  },
  {
   "cell_type": "markdown",
   "metadata": {},
   "source": [
    "## Загрузка DF и общая информация о нем"
   ]
  },
  {
   "cell_type": "code",
   "execution_count": 11,
   "metadata": {
    "_cell_guid": "79c7e3d0-c299-4dcb-8224-4455121ee9b0",
    "_uuid": "d629ff2d2480ee46fbb7e2d37f6b5fab8052498a",
    "colab": {},
    "colab_type": "code",
    "id": "oyGfxL3eVp9-"
   },
   "outputs": [],
   "source": [
    "data = pd.read_csv('movie_bd_v5.csv', encoding = \"utf-8\")\n",
    "# encoding\n",
    "data.director = data.director.str.encode('latin1').str.decode('utf8') # worked for \"director\" column"
   ]
  },
  {
   "cell_type": "code",
   "execution_count": 12,
   "metadata": {},
   "outputs": [
    {
     "data": {
      "text/html": [
       "<div>\n",
       "<style scoped>\n",
       "    .dataframe tbody tr th:only-of-type {\n",
       "        vertical-align: middle;\n",
       "    }\n",
       "\n",
       "    .dataframe tbody tr th {\n",
       "        vertical-align: top;\n",
       "    }\n",
       "\n",
       "    .dataframe thead th {\n",
       "        text-align: right;\n",
       "    }\n",
       "</style>\n",
       "<table border=\"1\" class=\"dataframe\">\n",
       "  <thead>\n",
       "    <tr style=\"text-align: right;\">\n",
       "      <th></th>\n",
       "      <th>imdb_id</th>\n",
       "      <th>budget</th>\n",
       "      <th>revenue</th>\n",
       "      <th>original_title</th>\n",
       "      <th>cast</th>\n",
       "      <th>director</th>\n",
       "      <th>tagline</th>\n",
       "      <th>overview</th>\n",
       "      <th>runtime</th>\n",
       "      <th>genres</th>\n",
       "      <th>production_companies</th>\n",
       "      <th>release_date</th>\n",
       "      <th>vote_average</th>\n",
       "      <th>release_year</th>\n",
       "    </tr>\n",
       "  </thead>\n",
       "  <tbody>\n",
       "    <tr>\n",
       "      <th>1880</th>\n",
       "      <td>tt0190374</td>\n",
       "      <td>35000000</td>\n",
       "      <td>15185241</td>\n",
       "      <td>Dungeons &amp; Dragons</td>\n",
       "      <td>Justin Whalin|Jeremy Irons|Thora Birch|Bruce P...</td>\n",
       "      <td>Courtney Solomon</td>\n",
       "      <td>This is no game.</td>\n",
       "      <td>The classic role-playing game comes to life in...</td>\n",
       "      <td>107</td>\n",
       "      <td>Action|Adventure|Fantasy|Science Fiction</td>\n",
       "      <td>New Line Cinema|Silver Pictures|Sweetpea Enter...</td>\n",
       "      <td>12/8/2000</td>\n",
       "      <td>3.9</td>\n",
       "      <td>2000</td>\n",
       "    </tr>\n",
       "    <tr>\n",
       "      <th>694</th>\n",
       "      <td>tt1031969</td>\n",
       "      <td>15000000</td>\n",
       "      <td>8762890</td>\n",
       "      <td>The Rocker</td>\n",
       "      <td>Rainn Wilson|Josh Gad|Christina Applegate|Emma...</td>\n",
       "      <td>Peter Cattaneo</td>\n",
       "      <td>Opportunity rocks.</td>\n",
       "      <td>Rob \"Fish\" Fishman is the drummer in '80s hair...</td>\n",
       "      <td>102</td>\n",
       "      <td>Comedy|Music</td>\n",
       "      <td>Fox Atomic</td>\n",
       "      <td>8/20/2008</td>\n",
       "      <td>5.4</td>\n",
       "      <td>2008</td>\n",
       "    </tr>\n",
       "    <tr>\n",
       "      <th>41</th>\n",
       "      <td>tt1655441</td>\n",
       "      <td>25000000</td>\n",
       "      <td>42629776</td>\n",
       "      <td>The Age of Adaline</td>\n",
       "      <td>Blake Lively|Michiel Huisman|Harrison Ford|Ell...</td>\n",
       "      <td>Lee Toland Krieger</td>\n",
       "      <td>Love is timeless.</td>\n",
       "      <td>After 29-year-old Adaline recovers from a near...</td>\n",
       "      <td>112</td>\n",
       "      <td>Fantasy|Drama|Romance</td>\n",
       "      <td>Lakeshore Entertainment|Sidney Kimmel Entertai...</td>\n",
       "      <td>4/16/2015</td>\n",
       "      <td>7.3</td>\n",
       "      <td>2015</td>\n",
       "    </tr>\n",
       "    <tr>\n",
       "      <th>1341</th>\n",
       "      <td>tt0358082</td>\n",
       "      <td>75000000</td>\n",
       "      <td>260696994</td>\n",
       "      <td>Robots</td>\n",
       "      <td>Robin Williams|Ewan McGregor|Halle Berry|Mel B...</td>\n",
       "      <td>Chris Wedge|Carlos Saldanha</td>\n",
       "      <td>You can shine no matter what you're made of.</td>\n",
       "      <td>Rodney Copperbottom is a young robot inventor ...</td>\n",
       "      <td>91</td>\n",
       "      <td>Animation|Comedy|Family|Science Fiction</td>\n",
       "      <td>Blue Sky Studios|Twentieth Century Fox Animation</td>\n",
       "      <td>3/11/2005</td>\n",
       "      <td>5.9</td>\n",
       "      <td>2005</td>\n",
       "    </tr>\n",
       "    <tr>\n",
       "      <th>1138</th>\n",
       "      <td>tt0327850</td>\n",
       "      <td>85000000</td>\n",
       "      <td>80916492</td>\n",
       "      <td>The Rundown</td>\n",
       "      <td>Dwayne Johnson|Seann William Scott|Rosario Daw...</td>\n",
       "      <td>Peter Berg</td>\n",
       "      <td>cut to the chase</td>\n",
       "      <td>When Travis, the mouthy son of a criminal, dis...</td>\n",
       "      <td>104</td>\n",
       "      <td>Adventure|Action|Comedy|Thriller</td>\n",
       "      <td>Columbia Pictures|Universal Pictures|WWE Studios</td>\n",
       "      <td>9/26/2003</td>\n",
       "      <td>6.3</td>\n",
       "      <td>2003</td>\n",
       "    </tr>\n",
       "  </tbody>\n",
       "</table>\n",
       "</div>"
      ],
      "text/plain": [
       "        imdb_id    budget    revenue      original_title  \\\n",
       "1880  tt0190374  35000000   15185241  Dungeons & Dragons   \n",
       "694   tt1031969  15000000    8762890          The Rocker   \n",
       "41    tt1655441  25000000   42629776  The Age of Adaline   \n",
       "1341  tt0358082  75000000  260696994              Robots   \n",
       "1138  tt0327850  85000000   80916492         The Rundown   \n",
       "\n",
       "                                                   cast  \\\n",
       "1880  Justin Whalin|Jeremy Irons|Thora Birch|Bruce P...   \n",
       "694   Rainn Wilson|Josh Gad|Christina Applegate|Emma...   \n",
       "41    Blake Lively|Michiel Huisman|Harrison Ford|Ell...   \n",
       "1341  Robin Williams|Ewan McGregor|Halle Berry|Mel B...   \n",
       "1138  Dwayne Johnson|Seann William Scott|Rosario Daw...   \n",
       "\n",
       "                         director  \\\n",
       "1880             Courtney Solomon   \n",
       "694                Peter Cattaneo   \n",
       "41             Lee Toland Krieger   \n",
       "1341  Chris Wedge|Carlos Saldanha   \n",
       "1138                   Peter Berg   \n",
       "\n",
       "                                           tagline  \\\n",
       "1880                              This is no game.   \n",
       "694                             Opportunity rocks.   \n",
       "41                               Love is timeless.   \n",
       "1341  You can shine no matter what you're made of.   \n",
       "1138                              cut to the chase   \n",
       "\n",
       "                                               overview  runtime  \\\n",
       "1880  The classic role-playing game comes to life in...      107   \n",
       "694   Rob \"Fish\" Fishman is the drummer in '80s hair...      102   \n",
       "41    After 29-year-old Adaline recovers from a near...      112   \n",
       "1341  Rodney Copperbottom is a young robot inventor ...       91   \n",
       "1138  When Travis, the mouthy son of a criminal, dis...      104   \n",
       "\n",
       "                                        genres  \\\n",
       "1880  Action|Adventure|Fantasy|Science Fiction   \n",
       "694                               Comedy|Music   \n",
       "41                       Fantasy|Drama|Romance   \n",
       "1341   Animation|Comedy|Family|Science Fiction   \n",
       "1138          Adventure|Action|Comedy|Thriller   \n",
       "\n",
       "                                   production_companies release_date  \\\n",
       "1880  New Line Cinema|Silver Pictures|Sweetpea Enter...    12/8/2000   \n",
       "694                                          Fox Atomic    8/20/2008   \n",
       "41    Lakeshore Entertainment|Sidney Kimmel Entertai...    4/16/2015   \n",
       "1341   Blue Sky Studios|Twentieth Century Fox Animation    3/11/2005   \n",
       "1138   Columbia Pictures|Universal Pictures|WWE Studios    9/26/2003   \n",
       "\n",
       "      vote_average  release_year  \n",
       "1880           3.9          2000  \n",
       "694            5.4          2008  \n",
       "41             7.3          2015  \n",
       "1341           5.9          2005  \n",
       "1138           6.3          2003  "
      ]
     },
     "execution_count": 12,
     "metadata": {},
     "output_type": "execute_result"
    }
   ],
   "source": [
    "data.sample(5)"
   ]
  },
  {
   "cell_type": "code",
   "execution_count": 13,
   "metadata": {},
   "outputs": [
    {
     "data": {
      "text/plain": [
       "(1889, 14)"
      ]
     },
     "execution_count": 13,
     "metadata": {},
     "output_type": "execute_result"
    }
   ],
   "source": [
    "data.shape"
   ]
  },
  {
   "cell_type": "code",
   "execution_count": 14,
   "metadata": {
    "colab": {},
    "colab_type": "code",
    "id": "CoYUnagMVp-C"
   },
   "outputs": [
    {
     "data": {
      "text/plain": [
       "imdb_id                  object\n",
       "budget                    int64\n",
       "revenue                   int64\n",
       "original_title           object\n",
       "cast                     object\n",
       "director                 object\n",
       "tagline                  object\n",
       "overview                 object\n",
       "runtime                   int64\n",
       "genres                   object\n",
       "production_companies     object\n",
       "release_date             object\n",
       "vote_average            float64\n",
       "release_year              int64\n",
       "dtype: object"
      ]
     },
     "execution_count": 14,
     "metadata": {},
     "output_type": "execute_result"
    }
   ],
   "source": [
    "data.dtypes"
   ]
  },
  {
   "cell_type": "code",
   "execution_count": 6,
   "metadata": {},
   "outputs": [
    {
     "name": "stdout",
     "output_type": "stream",
     "text": [
      "<class 'pandas.core.frame.DataFrame'>\n",
      "RangeIndex: 1889 entries, 0 to 1888\n",
      "Data columns (total 14 columns):\n",
      " #   Column                Non-Null Count  Dtype  \n",
      "---  ------                --------------  -----  \n",
      " 0   imdb_id               1889 non-null   object \n",
      " 1   budget                1889 non-null   int64  \n",
      " 2   revenue               1889 non-null   int64  \n",
      " 3   original_title        1889 non-null   object \n",
      " 4   cast                  1889 non-null   object \n",
      " 5   director              1889 non-null   object \n",
      " 6   tagline               1889 non-null   object \n",
      " 7   overview              1889 non-null   object \n",
      " 8   runtime               1889 non-null   int64  \n",
      " 9   genres                1889 non-null   object \n",
      " 10  production_companies  1889 non-null   object \n",
      " 11  release_date          1889 non-null   object \n",
      " 12  vote_average          1889 non-null   float64\n",
      " 13  release_year          1889 non-null   int64  \n",
      "dtypes: float64(1), int64(4), object(9)\n",
      "memory usage: 206.7+ KB\n"
     ]
    }
   ],
   "source": [
    "data.info()"
   ]
  },
  {
   "cell_type": "code",
   "execution_count": 15,
   "metadata": {},
   "outputs": [
    {
     "data": {
      "text/plain": [
       "imdb_id                 0\n",
       "budget                  0\n",
       "revenue                 0\n",
       "original_title          0\n",
       "cast                    0\n",
       "director                0\n",
       "tagline                 0\n",
       "overview                0\n",
       "runtime                 0\n",
       "genres                  0\n",
       "production_companies    0\n",
       "release_date            0\n",
       "vote_average            0\n",
       "release_year            0\n",
       "dtype: int64"
      ]
     },
     "execution_count": 15,
     "metadata": {},
     "output_type": "execute_result"
    }
   ],
   "source": [
    "data.isna().sum()"
   ]
  },
  {
   "cell_type": "code",
   "execution_count": 16,
   "metadata": {},
   "outputs": [
    {
     "data": {
      "text/plain": [
       "Index(['imdb_id', 'budget', 'revenue', 'original_title', 'cast', 'director',\n",
       "       'tagline', 'overview', 'runtime', 'genres', 'production_companies',\n",
       "       'release_date', 'vote_average', 'release_year'],\n",
       "      dtype='object')"
      ]
     },
     "execution_count": 16,
     "metadata": {},
     "output_type": "execute_result"
    }
   ],
   "source": [
    "data.columns"
   ]
  },
  {
   "cell_type": "markdown",
   "metadata": {
    "colab_type": "text",
    "id": "DTIt7ezGVp-G"
   },
   "source": [
    "# Предобработка"
   ]
  },
  {
   "cell_type": "code",
   "execution_count": 17,
   "metadata": {
    "colab": {},
    "colab_type": "code",
    "id": "jNb40DwKVp-H"
   },
   "outputs": [],
   "source": [
    "answers = {} # создадим словарь для ответов"
   ]
  },
  {
   "cell_type": "markdown",
   "metadata": {},
   "source": [
    "### Переводим дату в datetime формат"
   ]
  },
  {
   "cell_type": "code",
   "execution_count": 18,
   "metadata": {},
   "outputs": [],
   "source": [
    "data[\"release_date\"] = pd.to_datetime(data[\"release_date\"])"
   ]
  },
  {
   "cell_type": "markdown",
   "metadata": {},
   "source": [
    "### Добавляем колонку month"
   ]
  },
  {
   "cell_type": "code",
   "execution_count": 19,
   "metadata": {},
   "outputs": [],
   "source": [
    "data[\"month\"] = data[\"release_date\"].dt.month"
   ]
  },
  {
   "cell_type": "markdown",
   "metadata": {},
   "source": [
    "### Добавляем колонку profit = revenue - budget"
   ]
  },
  {
   "cell_type": "code",
   "execution_count": 20,
   "metadata": {},
   "outputs": [],
   "source": [
    "data[\"profit\"] = data[\"revenue\"] - data[\"budget\"]"
   ]
  },
  {
   "cell_type": "markdown",
   "metadata": {},
   "source": [
    "### Уберем ненужные колонки"
   ]
  },
  {
   "cell_type": "code",
   "execution_count": 79,
   "metadata": {},
   "outputs": [],
   "source": [
    "data_new = data.drop(columns=[\"imdb_id\", \"tagline\"])"
   ]
  },
  {
   "cell_type": "code",
   "execution_count": 80,
   "metadata": {},
   "outputs": [
    {
     "data": {
      "text/plain": [
       "Index(['budget', 'revenue', 'original_title', 'cast', 'director', 'overview',\n",
       "       'runtime', 'genres', 'production_companies', 'release_date',\n",
       "       'vote_average', 'release_year', 'month', 'profit'],\n",
       "      dtype='object')"
      ]
     },
     "execution_count": 80,
     "metadata": {},
     "output_type": "execute_result"
    }
   ],
   "source": [
    "data_new.columns"
   ]
  },
  {
   "cell_type": "markdown",
   "metadata": {},
   "source": [
    "### Извлечем информацию о жанрах для каждой картины"
   ]
  },
  {
   "cell_type": "code",
   "execution_count": 22,
   "metadata": {},
   "outputs": [],
   "source": [
    "# сперва строки в колонке genres преобразуем в списки\n",
    "data_new.genres = data_new.genres.apply(lambda x: x.split(\"|\"))\n",
    "\n",
    "# альтернативный метод без использования функции: метод assign\n",
    "# data_new = data_new.assign(genres=data_new.genres.str.split('|'))\n",
    "\n",
    "# применим метод explode, чтобы каждой строке соответствовал только один жанр\n",
    "data_gen = data_new.explode(\"genres\", ignore_index=True)"
   ]
  },
  {
   "cell_type": "code",
   "execution_count": 23,
   "metadata": {},
   "outputs": [
    {
     "data": {
      "text/html": [
       "<div>\n",
       "<style scoped>\n",
       "    .dataframe tbody tr th:only-of-type {\n",
       "        vertical-align: middle;\n",
       "    }\n",
       "\n",
       "    .dataframe tbody tr th {\n",
       "        vertical-align: top;\n",
       "    }\n",
       "\n",
       "    .dataframe thead th {\n",
       "        text-align: right;\n",
       "    }\n",
       "</style>\n",
       "<table border=\"1\" class=\"dataframe\">\n",
       "  <thead>\n",
       "    <tr style=\"text-align: right;\">\n",
       "      <th></th>\n",
       "      <th>budget</th>\n",
       "      <th>revenue</th>\n",
       "      <th>original_title</th>\n",
       "      <th>cast</th>\n",
       "      <th>director</th>\n",
       "      <th>overview</th>\n",
       "      <th>runtime</th>\n",
       "      <th>genres</th>\n",
       "      <th>production_companies</th>\n",
       "      <th>release_date</th>\n",
       "      <th>vote_average</th>\n",
       "      <th>release_year</th>\n",
       "      <th>month</th>\n",
       "      <th>profit</th>\n",
       "    </tr>\n",
       "  </thead>\n",
       "  <tbody>\n",
       "    <tr>\n",
       "      <th>0</th>\n",
       "      <td>150000000</td>\n",
       "      <td>1513528810</td>\n",
       "      <td>Jurassic World</td>\n",
       "      <td>Chris Pratt|Bryce Dallas Howard|Irrfan Khan|Vi...</td>\n",
       "      <td>Colin Trevorrow</td>\n",
       "      <td>Twenty-two years after the events of Jurassic ...</td>\n",
       "      <td>124</td>\n",
       "      <td>Action</td>\n",
       "      <td>Universal Studios|Amblin Entertainment|Legenda...</td>\n",
       "      <td>2015-06-09</td>\n",
       "      <td>6.5</td>\n",
       "      <td>2015</td>\n",
       "      <td>6</td>\n",
       "      <td>1363528810</td>\n",
       "    </tr>\n",
       "    <tr>\n",
       "      <th>1</th>\n",
       "      <td>150000000</td>\n",
       "      <td>1513528810</td>\n",
       "      <td>Jurassic World</td>\n",
       "      <td>Chris Pratt|Bryce Dallas Howard|Irrfan Khan|Vi...</td>\n",
       "      <td>Colin Trevorrow</td>\n",
       "      <td>Twenty-two years after the events of Jurassic ...</td>\n",
       "      <td>124</td>\n",
       "      <td>Adventure</td>\n",
       "      <td>Universal Studios|Amblin Entertainment|Legenda...</td>\n",
       "      <td>2015-06-09</td>\n",
       "      <td>6.5</td>\n",
       "      <td>2015</td>\n",
       "      <td>6</td>\n",
       "      <td>1363528810</td>\n",
       "    </tr>\n",
       "    <tr>\n",
       "      <th>2</th>\n",
       "      <td>150000000</td>\n",
       "      <td>1513528810</td>\n",
       "      <td>Jurassic World</td>\n",
       "      <td>Chris Pratt|Bryce Dallas Howard|Irrfan Khan|Vi...</td>\n",
       "      <td>Colin Trevorrow</td>\n",
       "      <td>Twenty-two years after the events of Jurassic ...</td>\n",
       "      <td>124</td>\n",
       "      <td>Science Fiction</td>\n",
       "      <td>Universal Studios|Amblin Entertainment|Legenda...</td>\n",
       "      <td>2015-06-09</td>\n",
       "      <td>6.5</td>\n",
       "      <td>2015</td>\n",
       "      <td>6</td>\n",
       "      <td>1363528810</td>\n",
       "    </tr>\n",
       "    <tr>\n",
       "      <th>3</th>\n",
       "      <td>150000000</td>\n",
       "      <td>1513528810</td>\n",
       "      <td>Jurassic World</td>\n",
       "      <td>Chris Pratt|Bryce Dallas Howard|Irrfan Khan|Vi...</td>\n",
       "      <td>Colin Trevorrow</td>\n",
       "      <td>Twenty-two years after the events of Jurassic ...</td>\n",
       "      <td>124</td>\n",
       "      <td>Thriller</td>\n",
       "      <td>Universal Studios|Amblin Entertainment|Legenda...</td>\n",
       "      <td>2015-06-09</td>\n",
       "      <td>6.5</td>\n",
       "      <td>2015</td>\n",
       "      <td>6</td>\n",
       "      <td>1363528810</td>\n",
       "    </tr>\n",
       "    <tr>\n",
       "      <th>4</th>\n",
       "      <td>150000000</td>\n",
       "      <td>378436354</td>\n",
       "      <td>Mad Max: Fury Road</td>\n",
       "      <td>Tom Hardy|Charlize Theron|Hugh Keays-Byrne|Nic...</td>\n",
       "      <td>George Miller</td>\n",
       "      <td>An apocalyptic story set in the furthest reach...</td>\n",
       "      <td>120</td>\n",
       "      <td>Action</td>\n",
       "      <td>Village Roadshow Pictures|Kennedy Miller Produ...</td>\n",
       "      <td>2015-05-13</td>\n",
       "      <td>7.1</td>\n",
       "      <td>2015</td>\n",
       "      <td>5</td>\n",
       "      <td>228436354</td>\n",
       "    </tr>\n",
       "    <tr>\n",
       "      <th>5</th>\n",
       "      <td>150000000</td>\n",
       "      <td>378436354</td>\n",
       "      <td>Mad Max: Fury Road</td>\n",
       "      <td>Tom Hardy|Charlize Theron|Hugh Keays-Byrne|Nic...</td>\n",
       "      <td>George Miller</td>\n",
       "      <td>An apocalyptic story set in the furthest reach...</td>\n",
       "      <td>120</td>\n",
       "      <td>Adventure</td>\n",
       "      <td>Village Roadshow Pictures|Kennedy Miller Produ...</td>\n",
       "      <td>2015-05-13</td>\n",
       "      <td>7.1</td>\n",
       "      <td>2015</td>\n",
       "      <td>5</td>\n",
       "      <td>228436354</td>\n",
       "    </tr>\n",
       "  </tbody>\n",
       "</table>\n",
       "</div>"
      ],
      "text/plain": [
       "      budget     revenue      original_title  \\\n",
       "0  150000000  1513528810      Jurassic World   \n",
       "1  150000000  1513528810      Jurassic World   \n",
       "2  150000000  1513528810      Jurassic World   \n",
       "3  150000000  1513528810      Jurassic World   \n",
       "4  150000000   378436354  Mad Max: Fury Road   \n",
       "5  150000000   378436354  Mad Max: Fury Road   \n",
       "\n",
       "                                                cast         director  \\\n",
       "0  Chris Pratt|Bryce Dallas Howard|Irrfan Khan|Vi...  Colin Trevorrow   \n",
       "1  Chris Pratt|Bryce Dallas Howard|Irrfan Khan|Vi...  Colin Trevorrow   \n",
       "2  Chris Pratt|Bryce Dallas Howard|Irrfan Khan|Vi...  Colin Trevorrow   \n",
       "3  Chris Pratt|Bryce Dallas Howard|Irrfan Khan|Vi...  Colin Trevorrow   \n",
       "4  Tom Hardy|Charlize Theron|Hugh Keays-Byrne|Nic...    George Miller   \n",
       "5  Tom Hardy|Charlize Theron|Hugh Keays-Byrne|Nic...    George Miller   \n",
       "\n",
       "                                            overview  runtime  \\\n",
       "0  Twenty-two years after the events of Jurassic ...      124   \n",
       "1  Twenty-two years after the events of Jurassic ...      124   \n",
       "2  Twenty-two years after the events of Jurassic ...      124   \n",
       "3  Twenty-two years after the events of Jurassic ...      124   \n",
       "4  An apocalyptic story set in the furthest reach...      120   \n",
       "5  An apocalyptic story set in the furthest reach...      120   \n",
       "\n",
       "            genres                               production_companies  \\\n",
       "0           Action  Universal Studios|Amblin Entertainment|Legenda...   \n",
       "1        Adventure  Universal Studios|Amblin Entertainment|Legenda...   \n",
       "2  Science Fiction  Universal Studios|Amblin Entertainment|Legenda...   \n",
       "3         Thriller  Universal Studios|Amblin Entertainment|Legenda...   \n",
       "4           Action  Village Roadshow Pictures|Kennedy Miller Produ...   \n",
       "5        Adventure  Village Roadshow Pictures|Kennedy Miller Produ...   \n",
       "\n",
       "  release_date  vote_average  release_year  month      profit  \n",
       "0   2015-06-09           6.5          2015      6  1363528810  \n",
       "1   2015-06-09           6.5          2015      6  1363528810  \n",
       "2   2015-06-09           6.5          2015      6  1363528810  \n",
       "3   2015-06-09           6.5          2015      6  1363528810  \n",
       "4   2015-05-13           7.1          2015      5   228436354  \n",
       "5   2015-05-13           7.1          2015      5   228436354  "
      ]
     },
     "execution_count": 23,
     "metadata": {},
     "output_type": "execute_result"
    }
   ],
   "source": [
    "# смотрим, что получилось\n",
    "data_gen.head(6)"
   ]
  },
  {
   "cell_type": "markdown",
   "metadata": {},
   "source": [
    "### Извлечем информацию об режиссерах для каждой картины"
   ]
  },
  {
   "cell_type": "code",
   "execution_count": 24,
   "metadata": {},
   "outputs": [],
   "source": [
    "data_new = data_new.assign(director=data_new.director.str.split('|'))"
   ]
  },
  {
   "cell_type": "code",
   "execution_count": 25,
   "metadata": {},
   "outputs": [],
   "source": [
    "data_dir = data_new.explode(\"director\", ignore_index=True)"
   ]
  },
  {
   "cell_type": "markdown",
   "metadata": {},
   "source": [
    "### ... о студиях"
   ]
  },
  {
   "cell_type": "code",
   "execution_count": 26,
   "metadata": {},
   "outputs": [],
   "source": [
    "data_new = data_new.assign(production_companies=data_new.production_companies.str.split('|'))\n",
    "data_comp = data_new.explode(\"production_companies\", ignore_index=True)"
   ]
  },
  {
   "cell_type": "markdown",
   "metadata": {},
   "source": [
    "### ... и об актерах"
   ]
  },
  {
   "cell_type": "code",
   "execution_count": 27,
   "metadata": {},
   "outputs": [],
   "source": [
    "data_new = data_new.assign(cast=data_new.cast.str.split('|'))\n",
    "data_cast = data_new.explode(\"cast\", ignore_index=True)"
   ]
  },
  {
   "cell_type": "markdown",
   "metadata": {},
   "source": [
    "### Для вопроса 14: Оставим только фильмы с жанром Action"
   ]
  },
  {
   "cell_type": "code",
   "execution_count": 30,
   "metadata": {},
   "outputs": [],
   "source": [
    "data_dir.genres = data_dir.genres.apply(lambda x: \"|\".join(x))"
   ]
  },
  {
   "cell_type": "code",
   "execution_count": 31,
   "metadata": {},
   "outputs": [],
   "source": [
    "data_dir_action = data_dir[data_dir.genres.str.contains(\"Action\")]"
   ]
  },
  {
   "cell_type": "markdown",
   "metadata": {},
   "source": [
    "### Для вопроса 17: Оставим только фильмы, где снимался N.Cage"
   ]
  },
  {
   "cell_type": "code",
   "execution_count": 33,
   "metadata": {},
   "outputs": [],
   "source": [
    "data_gen_cage = data_gen[data_gen.cast.str.contains(\"Nicolas Cage\")]"
   ]
  },
  {
   "cell_type": "code",
   "execution_count": 34,
   "metadata": {},
   "outputs": [
    {
     "data": {
      "text/plain": [
       "(93, 14)"
      ]
     },
     "execution_count": 34,
     "metadata": {},
     "output_type": "execute_result"
    }
   ],
   "source": [
    "data_gen_cage.shape"
   ]
  },
  {
   "cell_type": "markdown",
   "metadata": {},
   "source": [
    "### Для вопроса 24: Добавим столбец для количества символов в названии фильма"
   ]
  },
  {
   "cell_type": "code",
   "execution_count": 35,
   "metadata": {},
   "outputs": [],
   "source": [
    "data_comp[\"title_len\"] = data_comp.original_title.apply(lambda x: len(x))"
   ]
  },
  {
   "cell_type": "markdown",
   "metadata": {},
   "source": [
    "### Для вопроса 25: Добавим столбец для количества слов в описании фильма"
   ]
  },
  {
   "cell_type": "code",
   "execution_count": 36,
   "metadata": {},
   "outputs": [],
   "source": [
    "data_comp[\"overview_len\"] = data_comp.overview.apply(lambda x: len(x.split()))"
   ]
  },
  {
   "cell_type": "code",
   "execution_count": 37,
   "metadata": {},
   "outputs": [
    {
     "data": {
      "text/plain": [
       "(6078, 16)"
      ]
     },
     "execution_count": 37,
     "metadata": {},
     "output_type": "execute_result"
    }
   ],
   "source": [
    "data_comp.shape"
   ]
  },
  {
   "cell_type": "markdown",
   "metadata": {},
   "source": [
    "### Для вопроса 27"
   ]
  },
  {
   "cell_type": "code",
   "execution_count": 88,
   "metadata": {},
   "outputs": [],
   "source": [
    "# Будем работать с серией data[\"cast\"]\n",
    "data_cast_ser = data.cast"
   ]
  },
  {
   "cell_type": "code",
   "execution_count": 91,
   "metadata": {},
   "outputs": [],
   "source": [
    "# Преобразуем строки в множества\n",
    "data_cast_ser = data_cast_ser.apply(lambda x: set(x.split(\"|\")))"
   ]
  },
  {
   "cell_type": "code",
   "execution_count": 93,
   "metadata": {},
   "outputs": [],
   "source": [
    "# С помощью функции combinations из библиотеки itertools сравним множества, найдем их пересечения \n",
    "# и поместим эти пересечения в список\n",
    "lst = []\n",
    "for set1, set2 in itertools.combinations(data_cast_ser, 2):\n",
    "    lst.append(set1.intersection(set2))\n",
    "    \n",
    "    "
   ]
  },
  {
   "cell_type": "code",
   "execution_count": 95,
   "metadata": {},
   "outputs": [],
   "source": [
    "# Создадим новую серию из полученного списка\n",
    "data_cast_ser_int = pd.Series(lst)\n",
    "\n",
    "# Почистим новую серию: уберем пустые множества, а также множества с одним элементом\n",
    "data_cast_ser_int = data_cast_ser_int.apply(lambda x: x if len(x) > 1 else np.NaN).dropna()\n"
   ]
  },
  {
   "cell_type": "code",
   "execution_count": 97,
   "metadata": {},
   "outputs": [
    {
     "data": {
      "text/plain": [
       "3903     {Kate Winslet, Shailene Woodley, Miles Teller,...\n",
       "3949                      {Ansel Elgort, Shailene Woodley}\n",
       "7879         {Michelle Rodriguez, Vin Diesel, Paul Walker}\n",
       "8117         {Michelle Rodriguez, Vin Diesel, Paul Walker}\n",
       "8392             {Vin Diesel, Paul Walker, Dwayne Johnson}\n",
       "8838             {Vin Diesel, Paul Walker, Dwayne Johnson}\n",
       "9794                        {Leonardo DiCaprio, Tom Hardy}\n",
       "19798                        {Ralph Fiennes, Daniel Craig}\n",
       "24521                          {Adam Sandler, Kevin James}\n",
       "25475                          {Adam Sandler, Kevin James}\n",
       "dtype: object"
      ]
     },
     "execution_count": 97,
     "metadata": {},
     "output_type": "execute_result"
    }
   ],
   "source": [
    "# В новой серии остались множества с двумя и более актерами, снимавшихся в двух и более фильмах вместе\n",
    "data_cast_ser_int.head(10)"
   ]
  },
  {
   "cell_type": "markdown",
   "metadata": {
    "colab_type": "text",
    "id": "YxZaH-nPVp-L"
   },
   "source": [
    "# 1. У какого фильма из списка самый большой бюджет?"
   ]
  },
  {
   "cell_type": "code",
   "execution_count": 26,
   "metadata": {
    "colab": {},
    "colab_type": "code",
    "id": "uVnXAY5RVp-O"
   },
   "outputs": [],
   "source": [
    "answers['1'] = 'Pirates of the Caribbean: On Stranger Tides'"
   ]
  },
  {
   "cell_type": "code",
   "execution_count": 48,
   "metadata": {
    "colab": {},
    "colab_type": "code",
    "id": "dZwb3m28Vp-S",
    "scrolled": true
   },
   "outputs": [
    {
     "data": {
      "text/plain": [
       "723    Pirates of the Caribbean: On Stranger Tides\n",
       "Name: original_title, dtype: object"
      ]
     },
     "execution_count": 48,
     "metadata": {},
     "output_type": "execute_result"
    }
   ],
   "source": [
    "data_new[data_new.budget == data_new.budget.max()].original_title"
   ]
  },
  {
   "cell_type": "markdown",
   "metadata": {
    "colab_type": "text",
    "id": "K7L3nbRXVp-X"
   },
   "source": [
    "##### ВАРИАНТ 2"
   ]
  },
  {
   "cell_type": "code",
   "execution_count": 28,
   "metadata": {
    "colab": {},
    "colab_type": "code",
    "id": "OGaoQI7rVp-X"
   },
   "outputs": [
    {
     "data": {
      "text/html": [
       "<div>\n",
       "<style scoped>\n",
       "    .dataframe tbody tr th:only-of-type {\n",
       "        vertical-align: middle;\n",
       "    }\n",
       "\n",
       "    .dataframe tbody tr th {\n",
       "        vertical-align: top;\n",
       "    }\n",
       "\n",
       "    .dataframe thead th {\n",
       "        text-align: right;\n",
       "    }\n",
       "</style>\n",
       "<table border=\"1\" class=\"dataframe\">\n",
       "  <thead>\n",
       "    <tr style=\"text-align: right;\">\n",
       "      <th></th>\n",
       "      <th>budget</th>\n",
       "      <th>revenue</th>\n",
       "      <th>original_title</th>\n",
       "      <th>cast</th>\n",
       "      <th>director</th>\n",
       "      <th>overview</th>\n",
       "      <th>runtime</th>\n",
       "      <th>genres</th>\n",
       "      <th>production_companies</th>\n",
       "      <th>release_date</th>\n",
       "      <th>vote_average</th>\n",
       "      <th>release_year</th>\n",
       "      <th>month</th>\n",
       "      <th>profit</th>\n",
       "    </tr>\n",
       "  </thead>\n",
       "  <tbody>\n",
       "    <tr>\n",
       "      <th>723</th>\n",
       "      <td>380000000</td>\n",
       "      <td>1021683000</td>\n",
       "      <td>Pirates of the Caribbean: On Stranger Tides</td>\n",
       "      <td>[Johnny Depp, PenÃ©lope Cruz, Geoffrey Rush, I...</td>\n",
       "      <td>[Rob Marshall]</td>\n",
       "      <td>Captain Jack Sparrow crosses paths with a woma...</td>\n",
       "      <td>136</td>\n",
       "      <td>[Adventure, Action, Fantasy]</td>\n",
       "      <td>[Walt Disney Pictures, Jerry Bruckheimer Films...</td>\n",
       "      <td>2011-05-11</td>\n",
       "      <td>6.3</td>\n",
       "      <td>2011</td>\n",
       "      <td>5</td>\n",
       "      <td>641683000</td>\n",
       "    </tr>\n",
       "    <tr>\n",
       "      <th>1669</th>\n",
       "      <td>300000000</td>\n",
       "      <td>961000000</td>\n",
       "      <td>Pirates of the Caribbean: At World's End</td>\n",
       "      <td>[Johnny Depp, Orlando Bloom, Keira Knightley, ...</td>\n",
       "      <td>[Gore Verbinski]</td>\n",
       "      <td>Captain Barbossa, long believed to be dead, ha...</td>\n",
       "      <td>169</td>\n",
       "      <td>[Adventure, Fantasy, Action]</td>\n",
       "      <td>[Walt Disney Pictures, Jerry Bruckheimer Films...</td>\n",
       "      <td>2007-05-19</td>\n",
       "      <td>6.8</td>\n",
       "      <td>2007</td>\n",
       "      <td>5</td>\n",
       "      <td>661000000</td>\n",
       "    </tr>\n",
       "    <tr>\n",
       "      <th>14</th>\n",
       "      <td>280000000</td>\n",
       "      <td>1405035767</td>\n",
       "      <td>Avengers: Age of Ultron</td>\n",
       "      <td>[Robert Downey Jr., Chris Hemsworth, Mark Ruff...</td>\n",
       "      <td>[Joss Whedon]</td>\n",
       "      <td>When Tony Stark tries to jumpstart a dormant p...</td>\n",
       "      <td>141</td>\n",
       "      <td>[Action, Adventure, Science Fiction]</td>\n",
       "      <td>[Marvel Studios, Prime Focus, Revolution Sun S...</td>\n",
       "      <td>2015-04-22</td>\n",
       "      <td>7.4</td>\n",
       "      <td>2015</td>\n",
       "      <td>4</td>\n",
       "      <td>1125035767</td>\n",
       "    </tr>\n",
       "  </tbody>\n",
       "</table>\n",
       "</div>"
      ],
      "text/plain": [
       "         budget     revenue                               original_title  \\\n",
       "723   380000000  1021683000  Pirates of the Caribbean: On Stranger Tides   \n",
       "1669  300000000   961000000     Pirates of the Caribbean: At World's End   \n",
       "14    280000000  1405035767                      Avengers: Age of Ultron   \n",
       "\n",
       "                                                   cast          director  \\\n",
       "723   [Johnny Depp, PenÃ©lope Cruz, Geoffrey Rush, I...    [Rob Marshall]   \n",
       "1669  [Johnny Depp, Orlando Bloom, Keira Knightley, ...  [Gore Verbinski]   \n",
       "14    [Robert Downey Jr., Chris Hemsworth, Mark Ruff...     [Joss Whedon]   \n",
       "\n",
       "                                               overview  runtime  \\\n",
       "723   Captain Jack Sparrow crosses paths with a woma...      136   \n",
       "1669  Captain Barbossa, long believed to be dead, ha...      169   \n",
       "14    When Tony Stark tries to jumpstart a dormant p...      141   \n",
       "\n",
       "                                    genres  \\\n",
       "723           [Adventure, Action, Fantasy]   \n",
       "1669          [Adventure, Fantasy, Action]   \n",
       "14    [Action, Adventure, Science Fiction]   \n",
       "\n",
       "                                   production_companies release_date  \\\n",
       "723   [Walt Disney Pictures, Jerry Bruckheimer Films...   2011-05-11   \n",
       "1669  [Walt Disney Pictures, Jerry Bruckheimer Films...   2007-05-19   \n",
       "14    [Marvel Studios, Prime Focus, Revolution Sun S...   2015-04-22   \n",
       "\n",
       "      vote_average  release_year  month      profit  \n",
       "723            6.3          2011      5   641683000  \n",
       "1669           6.8          2007      5   661000000  \n",
       "14             7.4          2015      4  1125035767  "
      ]
     },
     "execution_count": 28,
     "metadata": {},
     "output_type": "execute_result"
    }
   ],
   "source": [
    "data_new.sort_values(\"budget\", ascending=False).head(3)"
   ]
  },
  {
   "cell_type": "code",
   "execution_count": 46,
   "metadata": {},
   "outputs": [
    {
     "name": "stdout",
     "output_type": "stream",
     "text": [
      "54310829.64\n"
     ]
    },
    {
     "data": {
      "text/plain": [
       "<AxesSubplot:ylabel='Frequency'>"
      ]
     },
     "execution_count": 46,
     "metadata": {},
     "output_type": "execute_result"
    },
    {
     "data": {
      "image/png": "[encoded data removed]",
      "text/plain": [
       "<Figure size 432x288 with 1 Axes>"
      ]
     },
     "metadata": {
      "needs_background": "light"
     },
     "output_type": "display_data"
    }
   ],
   "source": [
    "\n",
    "data_new[\"budget\"].plot(kind=\"hist\", bins=20)"
   ]
  },
  {
   "cell_type": "markdown",
   "metadata": {},
   "source": [
    "# 2. Какой фильм самый продолжительный?"
   ]
  },
  {
   "cell_type": "code",
   "execution_count": 29,
   "metadata": {
    "colab": {},
    "colab_type": "code",
    "id": "vHAoEXNTVp-d"
   },
   "outputs": [],
   "source": [
    "answers['2'] = 'Gods and Generals'"
   ]
  },
  {
   "cell_type": "code",
   "execution_count": 30,
   "metadata": {
    "colab": {},
    "colab_type": "code",
    "id": "ot-VX2XrVp-g"
   },
   "outputs": [
    {
     "data": {
      "text/html": [
       "<div>\n",
       "<style scoped>\n",
       "    .dataframe tbody tr th:only-of-type {\n",
       "        vertical-align: middle;\n",
       "    }\n",
       "\n",
       "    .dataframe tbody tr th {\n",
       "        vertical-align: top;\n",
       "    }\n",
       "\n",
       "    .dataframe thead th {\n",
       "        text-align: right;\n",
       "    }\n",
       "</style>\n",
       "<table border=\"1\" class=\"dataframe\">\n",
       "  <thead>\n",
       "    <tr style=\"text-align: right;\">\n",
       "      <th></th>\n",
       "      <th>budget</th>\n",
       "      <th>revenue</th>\n",
       "      <th>original_title</th>\n",
       "      <th>cast</th>\n",
       "      <th>director</th>\n",
       "      <th>overview</th>\n",
       "      <th>runtime</th>\n",
       "      <th>genres</th>\n",
       "      <th>production_companies</th>\n",
       "      <th>release_date</th>\n",
       "      <th>vote_average</th>\n",
       "      <th>release_year</th>\n",
       "      <th>month</th>\n",
       "      <th>profit</th>\n",
       "    </tr>\n",
       "  </thead>\n",
       "  <tbody>\n",
       "    <tr>\n",
       "      <th>1157</th>\n",
       "      <td>56000000</td>\n",
       "      <td>12923936</td>\n",
       "      <td>Gods and Generals</td>\n",
       "      <td>[Stephen Lang, Jeff Daniels, Robert Duvall, Ke...</td>\n",
       "      <td>[Ronald F. Maxwell]</td>\n",
       "      <td>The film centers mostly around the personal an...</td>\n",
       "      <td>214</td>\n",
       "      <td>[Drama, History, War]</td>\n",
       "      <td>[Turner Pictures, Antietam Filmworks]</td>\n",
       "      <td>2003-02-21</td>\n",
       "      <td>5.8</td>\n",
       "      <td>2003</td>\n",
       "      <td>2</td>\n",
       "      <td>-43076064</td>\n",
       "    </tr>\n",
       "    <tr>\n",
       "      <th>1081</th>\n",
       "      <td>94000000</td>\n",
       "      <td>1118888979</td>\n",
       "      <td>The Lord of the Rings: The Return of the King</td>\n",
       "      <td>[Elijah Wood, Ian McKellen, Viggo Mortensen, L...</td>\n",
       "      <td>[Peter Jackson]</td>\n",
       "      <td>Aragorn is revealed as the heir to the ancient...</td>\n",
       "      <td>201</td>\n",
       "      <td>[Adventure, Fantasy, Action]</td>\n",
       "      <td>[WingNut Films, New Line Cinema]</td>\n",
       "      <td>2003-12-01</td>\n",
       "      <td>7.9</td>\n",
       "      <td>2003</td>\n",
       "      <td>12</td>\n",
       "      <td>1024888979</td>\n",
       "    </tr>\n",
       "    <tr>\n",
       "      <th>1736</th>\n",
       "      <td>67000000</td>\n",
       "      <td>25037897</td>\n",
       "      <td>Grindhouse</td>\n",
       "      <td>[Kurt Russell, ZoÃ« Bell, Rosario Dawson, Vane...</td>\n",
       "      <td>[Robert Rodriguez, Eli Roth, Quentin Tarantino...</td>\n",
       "      <td>Two full length feature horror movies written ...</td>\n",
       "      <td>191</td>\n",
       "      <td>[Thriller, Action, Horror]</td>\n",
       "      <td>[Big Talk Productions, Yer Dead Productions, W...</td>\n",
       "      <td>2007-04-06</td>\n",
       "      <td>6.5</td>\n",
       "      <td>2007</td>\n",
       "      <td>4</td>\n",
       "      <td>-41962103</td>\n",
       "    </tr>\n",
       "  </tbody>\n",
       "</table>\n",
       "</div>"
      ],
      "text/plain": [
       "        budget     revenue                                 original_title  \\\n",
       "1157  56000000    12923936                              Gods and Generals   \n",
       "1081  94000000  1118888979  The Lord of the Rings: The Return of the King   \n",
       "1736  67000000    25037897                                     Grindhouse   \n",
       "\n",
       "                                                   cast  \\\n",
       "1157  [Stephen Lang, Jeff Daniels, Robert Duvall, Ke...   \n",
       "1081  [Elijah Wood, Ian McKellen, Viggo Mortensen, L...   \n",
       "1736  [Kurt Russell, ZoÃ« Bell, Rosario Dawson, Vane...   \n",
       "\n",
       "                                               director  \\\n",
       "1157                                [Ronald F. Maxwell]   \n",
       "1081                                    [Peter Jackson]   \n",
       "1736  [Robert Rodriguez, Eli Roth, Quentin Tarantino...   \n",
       "\n",
       "                                               overview  runtime  \\\n",
       "1157  The film centers mostly around the personal an...      214   \n",
       "1081  Aragorn is revealed as the heir to the ancient...      201   \n",
       "1736  Two full length feature horror movies written ...      191   \n",
       "\n",
       "                            genres  \\\n",
       "1157         [Drama, History, War]   \n",
       "1081  [Adventure, Fantasy, Action]   \n",
       "1736    [Thriller, Action, Horror]   \n",
       "\n",
       "                                   production_companies release_date  \\\n",
       "1157              [Turner Pictures, Antietam Filmworks]   2003-02-21   \n",
       "1081                   [WingNut Films, New Line Cinema]   2003-12-01   \n",
       "1736  [Big Talk Productions, Yer Dead Productions, W...   2007-04-06   \n",
       "\n",
       "      vote_average  release_year  month      profit  \n",
       "1157           5.8          2003      2   -43076064  \n",
       "1081           7.9          2003     12  1024888979  \n",
       "1736           6.5          2007      4   -41962103  "
      ]
     },
     "execution_count": 30,
     "metadata": {},
     "output_type": "execute_result"
    }
   ],
   "source": [
    "data_new.sort_values(\"runtime\", ascending=False).head(3)"
   ]
  },
  {
   "cell_type": "markdown",
   "metadata": {
    "colab_type": "text",
    "id": "bapLlpW8Vp-k"
   },
   "source": [
    "# 3. Какой из фильмов самый короткий (в минутах)?\n",
    "\n",
    "\n",
    "\n"
   ]
  },
  {
   "cell_type": "code",
   "execution_count": 31,
   "metadata": {},
   "outputs": [],
   "source": [
    "answers['3'] = 'Winnie the Pooh'"
   ]
  },
  {
   "cell_type": "code",
   "execution_count": 47,
   "metadata": {},
   "outputs": [
    {
     "data": {
      "text/plain": [
       "768    Winnie the Pooh\n",
       "Name: original_title, dtype: object"
      ]
     },
     "execution_count": 47,
     "metadata": {},
     "output_type": "execute_result"
    }
   ],
   "source": [
    "data_new[data_new.runtime == data_new.runtime.min()].original_title"
   ]
  },
  {
   "cell_type": "markdown",
   "metadata": {
    "colab_type": "text",
    "id": "TfQbxbfNVp-p"
   },
   "source": [
    "# 4. Какова средняя длительность фильмов?\n"
   ]
  },
  {
   "cell_type": "code",
   "execution_count": 33,
   "metadata": {
    "colab": {},
    "colab_type": "code",
    "id": "5K6dKZYVVp-q"
   },
   "outputs": [],
   "source": [
    "answers['4'] = '110'"
   ]
  },
  {
   "cell_type": "code",
   "execution_count": 78,
   "metadata": {},
   "outputs": [
    {
     "name": "stdout",
     "output_type": "stream",
     "text": [
      "110.0\n"
     ]
    },
    {
     "data": {
      "text/plain": [
       "<AxesSubplot:ylabel='Frequency'>"
      ]
     },
     "execution_count": 78,
     "metadata": {},
     "output_type": "execute_result"
    },
    {
     "data": {
      "image/png": "[encoded data removed]",
      "text/plain": [
       "<Figure size 432x288 with 1 Axes>"
      ]
     },
     "metadata": {
      "needs_background": "light"
     },
     "output_type": "display_data"
    }
   ],
   "source": [
    "# График распределения продолжительности картин\n",
    "print(data_new.runtime.mean().round())\n",
    "data_new[\"runtime\"].plot(kind=\"hist\", bins=20, grid=True)"
   ]
  },
  {
   "cell_type": "code",
   "execution_count": 50,
   "metadata": {},
   "outputs": [
    {
     "data": {
      "text/plain": [
       "<AxesSubplot:>"
      ]
     },
     "execution_count": 50,
     "metadata": {},
     "output_type": "execute_result"
    },
    {
     "data": {
      "image/png": "[encoded data removed]",
      "text/plain": [
       "<Figure size 432x288 with 1 Axes>"
      ]
     },
     "metadata": {
      "needs_background": "light"
     },
     "output_type": "display_data"
    }
   ],
   "source": [
    "data_new[\"runtime\"].plot(kind=\"box\")"
   ]
  },
  {
   "cell_type": "markdown",
   "metadata": {
    "colab_type": "text",
    "id": "r5TvbnT_Vp-u"
   },
   "source": [
    "# 5. Каково медианное значение длительности фильмов? "
   ]
  },
  {
   "cell_type": "code",
   "execution_count": 35,
   "metadata": {
    "colab": {},
    "colab_type": "code",
    "id": "iBROplKnVp-v"
   },
   "outputs": [],
   "source": [
    "answers['5'] = '107'"
   ]
  },
  {
   "cell_type": "code",
   "execution_count": 36,
   "metadata": {},
   "outputs": [
    {
     "data": {
      "text/plain": [
       "107.0"
      ]
     },
     "execution_count": 36,
     "metadata": {},
     "output_type": "execute_result"
    }
   ],
   "source": [
    "data_new.runtime.median()"
   ]
  },
  {
   "cell_type": "markdown",
   "metadata": {
    "colab_type": "text",
    "id": "39P-deDSVp-y"
   },
   "source": [
    "# 6. Какой самый прибыльный фильм?\n",
    "#### Внимание! Здесь и далее под «прибылью» или «убытками» понимается разность между сборами и бюджетом фильма. (прибыль = сборы - бюджет) в нашем датасете это будет (profit = revenue - budget) "
   ]
  },
  {
   "cell_type": "code",
   "execution_count": 37,
   "metadata": {},
   "outputs": [],
   "source": [
    "answers['6'] = 'Avatar'"
   ]
  },
  {
   "cell_type": "code",
   "execution_count": 38,
   "metadata": {
    "colab": {},
    "colab_type": "code",
    "id": "UYZh4T9WVp-y"
   },
   "outputs": [
    {
     "data": {
      "text/html": [
       "<div>\n",
       "<style scoped>\n",
       "    .dataframe tbody tr th:only-of-type {\n",
       "        vertical-align: middle;\n",
       "    }\n",
       "\n",
       "    .dataframe tbody tr th {\n",
       "        vertical-align: top;\n",
       "    }\n",
       "\n",
       "    .dataframe thead th {\n",
       "        text-align: right;\n",
       "    }\n",
       "</style>\n",
       "<table border=\"1\" class=\"dataframe\">\n",
       "  <thead>\n",
       "    <tr style=\"text-align: right;\">\n",
       "      <th></th>\n",
       "      <th>budget</th>\n",
       "      <th>revenue</th>\n",
       "      <th>original_title</th>\n",
       "      <th>cast</th>\n",
       "      <th>director</th>\n",
       "      <th>overview</th>\n",
       "      <th>runtime</th>\n",
       "      <th>genres</th>\n",
       "      <th>production_companies</th>\n",
       "      <th>release_date</th>\n",
       "      <th>vote_average</th>\n",
       "      <th>release_year</th>\n",
       "      <th>month</th>\n",
       "      <th>profit</th>\n",
       "    </tr>\n",
       "  </thead>\n",
       "  <tbody>\n",
       "    <tr>\n",
       "      <th>239</th>\n",
       "      <td>237000000</td>\n",
       "      <td>2781505847</td>\n",
       "      <td>Avatar</td>\n",
       "      <td>[Sam Worthington, Zoe Saldana, Sigourney Weave...</td>\n",
       "      <td>[James Cameron]</td>\n",
       "      <td>In the 22nd century, a paraplegic Marine is di...</td>\n",
       "      <td>162</td>\n",
       "      <td>[Action, Adventure, Fantasy, Science Fiction]</td>\n",
       "      <td>[Ingenious Film Partners, Twentieth Century Fo...</td>\n",
       "      <td>2009-12-10</td>\n",
       "      <td>7.1</td>\n",
       "      <td>2009</td>\n",
       "      <td>12</td>\n",
       "      <td>2544505847</td>\n",
       "    </tr>\n",
       "    <tr>\n",
       "      <th>3</th>\n",
       "      <td>200000000</td>\n",
       "      <td>2068178225</td>\n",
       "      <td>Star Wars: The Force Awakens</td>\n",
       "      <td>[Harrison Ford, Mark Hamill, Carrie Fisher, Ad...</td>\n",
       "      <td>[J.J. Abrams]</td>\n",
       "      <td>Thirty years after defeating the Galactic Empi...</td>\n",
       "      <td>136</td>\n",
       "      <td>[Action, Adventure, Science Fiction, Fantasy]</td>\n",
       "      <td>[Lucasfilm, Truenorth Productions, Bad Robot]</td>\n",
       "      <td>2015-12-15</td>\n",
       "      <td>7.5</td>\n",
       "      <td>2015</td>\n",
       "      <td>12</td>\n",
       "      <td>1868178225</td>\n",
       "    </tr>\n",
       "    <tr>\n",
       "      <th>0</th>\n",
       "      <td>150000000</td>\n",
       "      <td>1513528810</td>\n",
       "      <td>Jurassic World</td>\n",
       "      <td>[Chris Pratt, Bryce Dallas Howard, Irrfan Khan...</td>\n",
       "      <td>[Colin Trevorrow]</td>\n",
       "      <td>Twenty-two years after the events of Jurassic ...</td>\n",
       "      <td>124</td>\n",
       "      <td>[Action, Adventure, Science Fiction, Thriller]</td>\n",
       "      <td>[Universal Studios, Amblin Entertainment, Lege...</td>\n",
       "      <td>2015-06-09</td>\n",
       "      <td>6.5</td>\n",
       "      <td>2015</td>\n",
       "      <td>6</td>\n",
       "      <td>1363528810</td>\n",
       "    </tr>\n",
       "  </tbody>\n",
       "</table>\n",
       "</div>"
      ],
      "text/plain": [
       "        budget     revenue                original_title  \\\n",
       "239  237000000  2781505847                        Avatar   \n",
       "3    200000000  2068178225  Star Wars: The Force Awakens   \n",
       "0    150000000  1513528810                Jurassic World   \n",
       "\n",
       "                                                  cast           director  \\\n",
       "239  [Sam Worthington, Zoe Saldana, Sigourney Weave...    [James Cameron]   \n",
       "3    [Harrison Ford, Mark Hamill, Carrie Fisher, Ad...      [J.J. Abrams]   \n",
       "0    [Chris Pratt, Bryce Dallas Howard, Irrfan Khan...  [Colin Trevorrow]   \n",
       "\n",
       "                                              overview  runtime  \\\n",
       "239  In the 22nd century, a paraplegic Marine is di...      162   \n",
       "3    Thirty years after defeating the Galactic Empi...      136   \n",
       "0    Twenty-two years after the events of Jurassic ...      124   \n",
       "\n",
       "                                             genres  \\\n",
       "239   [Action, Adventure, Fantasy, Science Fiction]   \n",
       "3     [Action, Adventure, Science Fiction, Fantasy]   \n",
       "0    [Action, Adventure, Science Fiction, Thriller]   \n",
       "\n",
       "                                  production_companies release_date  \\\n",
       "239  [Ingenious Film Partners, Twentieth Century Fo...   2009-12-10   \n",
       "3        [Lucasfilm, Truenorth Productions, Bad Robot]   2015-12-15   \n",
       "0    [Universal Studios, Amblin Entertainment, Lege...   2015-06-09   \n",
       "\n",
       "     vote_average  release_year  month      profit  \n",
       "239           7.1          2009     12  2544505847  \n",
       "3             7.5          2015     12  1868178225  \n",
       "0             6.5          2015      6  1363528810  "
      ]
     },
     "execution_count": 38,
     "metadata": {},
     "output_type": "execute_result"
    }
   ],
   "source": [
    "data_new.sort_values(\"profit\", ascending = False).head(3)"
   ]
  },
  {
   "cell_type": "code",
   "execution_count": null,
   "metadata": {},
   "outputs": [],
   "source": []
  },
  {
   "cell_type": "markdown",
   "metadata": {
    "colab_type": "text",
    "id": "M99JmIX4Vp-2"
   },
   "source": [
    "# 7. Какой фильм самый убыточный? "
   ]
  },
  {
   "cell_type": "code",
   "execution_count": 39,
   "metadata": {},
   "outputs": [],
   "source": [
    "answers['7'] = 'The Lone Ranger'"
   ]
  },
  {
   "cell_type": "code",
   "execution_count": 40,
   "metadata": {
    "colab": {},
    "colab_type": "code",
    "id": "w-D2m4XPVp-3"
   },
   "outputs": [
    {
     "data": {
      "text/html": [
       "<div>\n",
       "<style scoped>\n",
       "    .dataframe tbody tr th:only-of-type {\n",
       "        vertical-align: middle;\n",
       "    }\n",
       "\n",
       "    .dataframe tbody tr th {\n",
       "        vertical-align: top;\n",
       "    }\n",
       "\n",
       "    .dataframe thead th {\n",
       "        text-align: right;\n",
       "    }\n",
       "</style>\n",
       "<table border=\"1\" class=\"dataframe\">\n",
       "  <thead>\n",
       "    <tr style=\"text-align: right;\">\n",
       "      <th></th>\n",
       "      <th>budget</th>\n",
       "      <th>revenue</th>\n",
       "      <th>original_title</th>\n",
       "      <th>cast</th>\n",
       "      <th>director</th>\n",
       "      <th>overview</th>\n",
       "      <th>runtime</th>\n",
       "      <th>genres</th>\n",
       "      <th>production_companies</th>\n",
       "      <th>release_date</th>\n",
       "      <th>vote_average</th>\n",
       "      <th>release_year</th>\n",
       "      <th>month</th>\n",
       "      <th>profit</th>\n",
       "    </tr>\n",
       "  </thead>\n",
       "  <tbody>\n",
       "    <tr>\n",
       "      <th>1245</th>\n",
       "      <td>255000000</td>\n",
       "      <td>89289910</td>\n",
       "      <td>The Lone Ranger</td>\n",
       "      <td>[Johnny Depp, Armie Hammer, William Fichtner, ...</td>\n",
       "      <td>[Gore Verbinski]</td>\n",
       "      <td>The Texas Rangers chase down a gang of outlaws...</td>\n",
       "      <td>149</td>\n",
       "      <td>[Action, Adventure, Western]</td>\n",
       "      <td>[Walt Disney Pictures, Jerry Bruckheimer Films...</td>\n",
       "      <td>2013-07-03</td>\n",
       "      <td>6.0</td>\n",
       "      <td>2013</td>\n",
       "      <td>7</td>\n",
       "      <td>-165710090</td>\n",
       "    </tr>\n",
       "  </tbody>\n",
       "</table>\n",
       "</div>"
      ],
      "text/plain": [
       "         budget   revenue   original_title  \\\n",
       "1245  255000000  89289910  The Lone Ranger   \n",
       "\n",
       "                                                   cast          director  \\\n",
       "1245  [Johnny Depp, Armie Hammer, William Fichtner, ...  [Gore Verbinski]   \n",
       "\n",
       "                                               overview  runtime  \\\n",
       "1245  The Texas Rangers chase down a gang of outlaws...      149   \n",
       "\n",
       "                            genres  \\\n",
       "1245  [Action, Adventure, Western]   \n",
       "\n",
       "                                   production_companies release_date  \\\n",
       "1245  [Walt Disney Pictures, Jerry Bruckheimer Films...   2013-07-03   \n",
       "\n",
       "      vote_average  release_year  month     profit  \n",
       "1245           6.0          2013      7 -165710090  "
      ]
     },
     "execution_count": 40,
     "metadata": {},
     "output_type": "execute_result"
    }
   ],
   "source": [
    "data_new[data_new.profit == data_new.profit.min()]"
   ]
  },
  {
   "cell_type": "markdown",
   "metadata": {
    "colab_type": "text",
    "id": "wEOM5ERVVp-6"
   },
   "source": [
    "# 8. У скольких фильмов из датасета объем сборов оказался выше бюджета?"
   ]
  },
  {
   "cell_type": "code",
   "execution_count": 41,
   "metadata": {
    "colab": {},
    "colab_type": "code",
    "id": "y00_7HD6Vp-7"
   },
   "outputs": [],
   "source": [
    "answers['8'] = '1478'"
   ]
  },
  {
   "cell_type": "code",
   "execution_count": 42,
   "metadata": {},
   "outputs": [
    {
     "data": {
      "text/plain": [
       "1478"
      ]
     },
     "execution_count": 42,
     "metadata": {},
     "output_type": "execute_result"
    }
   ],
   "source": [
    "data_new[data_new.revenue > data_new.budget].original_title.count()"
   ]
  },
  {
   "cell_type": "markdown",
   "metadata": {},
   "source": [
    "##### ВАРИАНТ 2"
   ]
  },
  {
   "cell_type": "code",
   "execution_count": 43,
   "metadata": {},
   "outputs": [
    {
     "data": {
      "text/plain": [
       "1478"
      ]
     },
     "execution_count": 43,
     "metadata": {},
     "output_type": "execute_result"
    }
   ],
   "source": [
    "data_new.query(\"revenue > budget\").original_title.count()"
   ]
  },
  {
   "cell_type": "markdown",
   "metadata": {},
   "source": [
    "##### ВАРИАНТ 3"
   ]
  },
  {
   "cell_type": "code",
   "execution_count": 51,
   "metadata": {},
   "outputs": [
    {
     "data": {
      "text/plain": [
       "1478"
      ]
     },
     "execution_count": 51,
     "metadata": {},
     "output_type": "execute_result"
    }
   ],
   "source": [
    "data_new[lambda x: x[\"revenue\"] > x[\"budget\"]].original_title.count()"
   ]
  },
  {
   "cell_type": "markdown",
   "metadata": {
    "colab_type": "text",
    "id": "xhpspA9KVp_A"
   },
   "source": [
    "# 9. Какой фильм оказался самым кассовым в 2008 году?"
   ]
  },
  {
   "cell_type": "code",
   "execution_count": 44,
   "metadata": {
    "colab": {},
    "colab_type": "code",
    "id": "MoUyQr9RVp_B"
   },
   "outputs": [],
   "source": [
    "answers['9'] = 'The Dark Knight'"
   ]
  },
  {
   "cell_type": "code",
   "execution_count": 45,
   "metadata": {},
   "outputs": [
    {
     "data": {
      "text/html": [
       "<div>\n",
       "<style scoped>\n",
       "    .dataframe tbody tr th:only-of-type {\n",
       "        vertical-align: middle;\n",
       "    }\n",
       "\n",
       "    .dataframe tbody tr th {\n",
       "        vertical-align: top;\n",
       "    }\n",
       "\n",
       "    .dataframe thead th {\n",
       "        text-align: right;\n",
       "    }\n",
       "</style>\n",
       "<table border=\"1\" class=\"dataframe\">\n",
       "  <thead>\n",
       "    <tr style=\"text-align: right;\">\n",
       "      <th></th>\n",
       "      <th>budget</th>\n",
       "      <th>revenue</th>\n",
       "      <th>original_title</th>\n",
       "      <th>cast</th>\n",
       "      <th>director</th>\n",
       "      <th>overview</th>\n",
       "      <th>runtime</th>\n",
       "      <th>genres</th>\n",
       "      <th>production_companies</th>\n",
       "      <th>release_date</th>\n",
       "      <th>vote_average</th>\n",
       "      <th>release_year</th>\n",
       "      <th>month</th>\n",
       "      <th>profit</th>\n",
       "    </tr>\n",
       "  </thead>\n",
       "  <tbody>\n",
       "    <tr>\n",
       "      <th>599</th>\n",
       "      <td>185000000</td>\n",
       "      <td>1001921825</td>\n",
       "      <td>The Dark Knight</td>\n",
       "      <td>[Christian Bale, Michael Caine, Heath Ledger, ...</td>\n",
       "      <td>[Christopher Nolan]</td>\n",
       "      <td>Batman raises the stakes in his war on crime. ...</td>\n",
       "      <td>152</td>\n",
       "      <td>[Drama, Action, Crime, Thriller]</td>\n",
       "      <td>[DC Comics, Legendary Pictures, Warner Bros., ...</td>\n",
       "      <td>2008-07-16</td>\n",
       "      <td>8.1</td>\n",
       "      <td>2008</td>\n",
       "      <td>7</td>\n",
       "      <td>816921825</td>\n",
       "    </tr>\n",
       "    <tr>\n",
       "      <th>603</th>\n",
       "      <td>185000000</td>\n",
       "      <td>786636033</td>\n",
       "      <td>Indiana Jones and the Kingdom of the Crystal S...</td>\n",
       "      <td>[Harrison Ford, Cate Blanchett, Shia LaBeouf, ...</td>\n",
       "      <td>[Steven Spielberg]</td>\n",
       "      <td>Set during the Cold War, the Soviets â€“ led b...</td>\n",
       "      <td>122</td>\n",
       "      <td>[Adventure, Action]</td>\n",
       "      <td>[Lucasfilm, Paramount Pictures]</td>\n",
       "      <td>2008-05-21</td>\n",
       "      <td>5.6</td>\n",
       "      <td>2008</td>\n",
       "      <td>5</td>\n",
       "      <td>601636033</td>\n",
       "    </tr>\n",
       "    <tr>\n",
       "      <th>606</th>\n",
       "      <td>130000000</td>\n",
       "      <td>631744560</td>\n",
       "      <td>Kung Fu Panda</td>\n",
       "      <td>[Jack Black, Dustin Hoffman, Angelina Jolie, J...</td>\n",
       "      <td>[Mark Osborne, John Stevenson]</td>\n",
       "      <td>When the Valley of Peace is threatened, lazy P...</td>\n",
       "      <td>90</td>\n",
       "      <td>[Animation, Family]</td>\n",
       "      <td>[DreamWorks Animation]</td>\n",
       "      <td>2008-06-04</td>\n",
       "      <td>6.8</td>\n",
       "      <td>2008</td>\n",
       "      <td>6</td>\n",
       "      <td>501744560</td>\n",
       "    </tr>\n",
       "  </tbody>\n",
       "</table>\n",
       "</div>"
      ],
      "text/plain": [
       "        budget     revenue                                     original_title  \\\n",
       "599  185000000  1001921825                                    The Dark Knight   \n",
       "603  185000000   786636033  Indiana Jones and the Kingdom of the Crystal S...   \n",
       "606  130000000   631744560                                      Kung Fu Panda   \n",
       "\n",
       "                                                  cast  \\\n",
       "599  [Christian Bale, Michael Caine, Heath Ledger, ...   \n",
       "603  [Harrison Ford, Cate Blanchett, Shia LaBeouf, ...   \n",
       "606  [Jack Black, Dustin Hoffman, Angelina Jolie, J...   \n",
       "\n",
       "                           director  \\\n",
       "599             [Christopher Nolan]   \n",
       "603              [Steven Spielberg]   \n",
       "606  [Mark Osborne, John Stevenson]   \n",
       "\n",
       "                                              overview  runtime  \\\n",
       "599  Batman raises the stakes in his war on crime. ...      152   \n",
       "603  Set during the Cold War, the Soviets â€“ led b...      122   \n",
       "606  When the Valley of Peace is threatened, lazy P...       90   \n",
       "\n",
       "                               genres  \\\n",
       "599  [Drama, Action, Crime, Thriller]   \n",
       "603               [Adventure, Action]   \n",
       "606               [Animation, Family]   \n",
       "\n",
       "                                  production_companies release_date  \\\n",
       "599  [DC Comics, Legendary Pictures, Warner Bros., ...   2008-07-16   \n",
       "603                    [Lucasfilm, Paramount Pictures]   2008-05-21   \n",
       "606                             [DreamWorks Animation]   2008-06-04   \n",
       "\n",
       "     vote_average  release_year  month     profit  \n",
       "599           8.1          2008      7  816921825  \n",
       "603           5.6          2008      5  601636033  \n",
       "606           6.8          2008      6  501744560  "
      ]
     },
     "execution_count": 45,
     "metadata": {},
     "output_type": "execute_result"
    }
   ],
   "source": [
    "data_new[data_new.release_year == 2008].sort_values(\"revenue\", ascending=False).head(3)"
   ]
  },
  {
   "cell_type": "code",
   "execution_count": 71,
   "metadata": {},
   "outputs": [
    {
     "data": {
      "text/plain": [
       "<AxesSubplot:>"
      ]
     },
     "execution_count": 71,
     "metadata": {},
     "output_type": "execute_result"
    },
    {
     "data": {
      "image/png": "[encoded data removed]",
      "text/plain": [
       "<Figure size 432x288 with 1 Axes>"
      ]
     },
     "metadata": {
      "needs_background": "light"
     },
     "output_type": "display_data"
    }
   ],
   "source": [
    "# График количество снятых фильмов по годам\n",
    "years = range(2000, 2016)\n",
    "data_new.release_year.value_counts().sort_index().plot(grid=True, xticks=years, rot=45)"
   ]
  },
  {
   "cell_type": "markdown",
   "metadata": {
    "colab_type": "text",
    "id": "Zi4hDKidVp_F"
   },
   "source": [
    "# 10. Самый убыточный фильм за период с 2012 по 2014 г. (включительно)?\n"
   ]
  },
  {
   "cell_type": "code",
   "execution_count": 46,
   "metadata": {
    "colab": {},
    "colab_type": "code",
    "id": "XqyRmufJVp_F"
   },
   "outputs": [],
   "source": [
    "answers['10'] = 'The Lone Ranger'"
   ]
  },
  {
   "cell_type": "code",
   "execution_count": 47,
   "metadata": {
    "scrolled": true
   },
   "outputs": [
    {
     "data": {
      "text/html": [
       "<div>\n",
       "<style scoped>\n",
       "    .dataframe tbody tr th:only-of-type {\n",
       "        vertical-align: middle;\n",
       "    }\n",
       "\n",
       "    .dataframe tbody tr th {\n",
       "        vertical-align: top;\n",
       "    }\n",
       "\n",
       "    .dataframe thead th {\n",
       "        text-align: right;\n",
       "    }\n",
       "</style>\n",
       "<table border=\"1\" class=\"dataframe\">\n",
       "  <thead>\n",
       "    <tr style=\"text-align: right;\">\n",
       "      <th></th>\n",
       "      <th>budget</th>\n",
       "      <th>revenue</th>\n",
       "      <th>original_title</th>\n",
       "      <th>cast</th>\n",
       "      <th>director</th>\n",
       "      <th>overview</th>\n",
       "      <th>runtime</th>\n",
       "      <th>genres</th>\n",
       "      <th>production_companies</th>\n",
       "      <th>release_date</th>\n",
       "      <th>vote_average</th>\n",
       "      <th>release_year</th>\n",
       "      <th>month</th>\n",
       "      <th>profit</th>\n",
       "    </tr>\n",
       "  </thead>\n",
       "  <tbody>\n",
       "    <tr>\n",
       "      <th>1245</th>\n",
       "      <td>255000000</td>\n",
       "      <td>89289910</td>\n",
       "      <td>The Lone Ranger</td>\n",
       "      <td>[Johnny Depp, Armie Hammer, William Fichtner, ...</td>\n",
       "      <td>[Gore Verbinski]</td>\n",
       "      <td>The Texas Rangers chase down a gang of outlaws...</td>\n",
       "      <td>149</td>\n",
       "      <td>[Action, Adventure, Western]</td>\n",
       "      <td>[Walt Disney Pictures, Jerry Bruckheimer Films...</td>\n",
       "      <td>2013-07-03</td>\n",
       "      <td>6.0</td>\n",
       "      <td>2013</td>\n",
       "      <td>7</td>\n",
       "      <td>-165710090</td>\n",
       "    </tr>\n",
       "    <tr>\n",
       "      <th>1214</th>\n",
       "      <td>130000000</td>\n",
       "      <td>61648500</td>\n",
       "      <td>R.I.P.D.</td>\n",
       "      <td>[Jeff Bridges, Ryan Reynolds, Kevin Bacon, Ste...</td>\n",
       "      <td>[Robert Schwentke]</td>\n",
       "      <td>A recently slain cop joins a team of undead po...</td>\n",
       "      <td>96</td>\n",
       "      <td>[Fantasy, Action, Comedy, Crime]</td>\n",
       "      <td>[Universal Pictures, Original Film, Dark Horse...</td>\n",
       "      <td>2013-07-18</td>\n",
       "      <td>5.3</td>\n",
       "      <td>2013</td>\n",
       "      <td>7</td>\n",
       "      <td>-68351500</td>\n",
       "    </tr>\n",
       "    <tr>\n",
       "      <th>1007</th>\n",
       "      <td>60000000</td>\n",
       "      <td>8106475</td>\n",
       "      <td>Upside Down</td>\n",
       "      <td>[Kirsten Dunst, Jim Sturgess, Timothy Spall, J...</td>\n",
       "      <td>[Juan Diego Solanas]</td>\n",
       "      <td>In an alternate universe where twinned worlds ...</td>\n",
       "      <td>104</td>\n",
       "      <td>[Romance, Science Fiction, Drama, Fantasy]</td>\n",
       "      <td>[Onyx Films, Studio 37, Jouror Productions, Fr...</td>\n",
       "      <td>2012-09-27</td>\n",
       "      <td>6.1</td>\n",
       "      <td>2012</td>\n",
       "      <td>9</td>\n",
       "      <td>-51893525</td>\n",
       "    </tr>\n",
       "  </tbody>\n",
       "</table>\n",
       "</div>"
      ],
      "text/plain": [
       "         budget   revenue   original_title  \\\n",
       "1245  255000000  89289910  The Lone Ranger   \n",
       "1214  130000000  61648500         R.I.P.D.   \n",
       "1007   60000000   8106475      Upside Down   \n",
       "\n",
       "                                                   cast              director  \\\n",
       "1245  [Johnny Depp, Armie Hammer, William Fichtner, ...      [Gore Verbinski]   \n",
       "1214  [Jeff Bridges, Ryan Reynolds, Kevin Bacon, Ste...    [Robert Schwentke]   \n",
       "1007  [Kirsten Dunst, Jim Sturgess, Timothy Spall, J...  [Juan Diego Solanas]   \n",
       "\n",
       "                                               overview  runtime  \\\n",
       "1245  The Texas Rangers chase down a gang of outlaws...      149   \n",
       "1214  A recently slain cop joins a team of undead po...       96   \n",
       "1007  In an alternate universe where twinned worlds ...      104   \n",
       "\n",
       "                                          genres  \\\n",
       "1245                [Action, Adventure, Western]   \n",
       "1214            [Fantasy, Action, Comedy, Crime]   \n",
       "1007  [Romance, Science Fiction, Drama, Fantasy]   \n",
       "\n",
       "                                   production_companies release_date  \\\n",
       "1245  [Walt Disney Pictures, Jerry Bruckheimer Films...   2013-07-03   \n",
       "1214  [Universal Pictures, Original Film, Dark Horse...   2013-07-18   \n",
       "1007  [Onyx Films, Studio 37, Jouror Productions, Fr...   2012-09-27   \n",
       "\n",
       "      vote_average  release_year  month     profit  \n",
       "1245           6.0          2013      7 -165710090  \n",
       "1214           5.3          2013      7  -68351500  \n",
       "1007           6.1          2012      9  -51893525  "
      ]
     },
     "execution_count": 47,
     "metadata": {},
     "output_type": "execute_result"
    }
   ],
   "source": [
    "data_new.query(\"2012 <= release_year <= 2014\").sort_values(\"profit\").head(3)"
   ]
  },
  {
   "cell_type": "code",
   "execution_count": 48,
   "metadata": {},
   "outputs": [],
   "source": [
    "# data_new.query(\"2012 <= release_year <= 2014\").sort_values(\"profit\").head(3)"
   ]
  },
  {
   "cell_type": "code",
   "execution_count": 66,
   "metadata": {},
   "outputs": [
    {
     "data": {
      "text/plain": [
       "<AxesSubplot:xlabel='release_year'>"
      ]
     },
     "execution_count": 66,
     "metadata": {},
     "output_type": "execute_result"
    },
    {
     "data": {
      "image/png": "[encoded data removed]",
      "text/plain": [
       "<Figure size 432x288 with 1 Axes>"
      ]
     },
     "metadata": {
      "needs_background": "light"
     },
     "output_type": "display_data"
    }
   ],
   "source": [
    "# График суммарных сборов по годам\n",
    "data_new.groupby(\"release_year\")[\"revenue\"].sum().sort_index().plot(grid=True)"
   ]
  },
  {
   "cell_type": "markdown",
   "metadata": {
    "colab_type": "text",
    "id": "EA7Sa9dkVp_I"
   },
   "source": [
    "# 11. Какого жанра фильмов больше всего?"
   ]
  },
  {
   "cell_type": "code",
   "execution_count": 49,
   "metadata": {},
   "outputs": [],
   "source": [
    "answers['11'] = 'Drama'"
   ]
  },
  {
   "cell_type": "code",
   "execution_count": 50,
   "metadata": {
    "colab": {},
    "colab_type": "code",
    "id": "zsJAwJ8QVp_J"
   },
   "outputs": [
    {
     "data": {
      "text/plain": [
       "Drama              782\n",
       "Comedy             683\n",
       "Thriller           596\n",
       "Action             582\n",
       "Adventure          415\n",
       "Crime              315\n",
       "Romance            308\n",
       "Family             260\n",
       "Science Fiction    248\n",
       "Fantasy            222\n",
       "Horror             176\n",
       "Mystery            168\n",
       "Animation          139\n",
       "Music               64\n",
       "History             62\n",
       "War                 58\n",
       "Western             19\n",
       "Documentary          8\n",
       "Foreign              2\n",
       "Name: genres, dtype: int64"
      ]
     },
     "execution_count": 50,
     "metadata": {},
     "output_type": "execute_result"
    }
   ],
   "source": [
    "data_gen.genres.value_counts()"
   ]
  },
  {
   "cell_type": "markdown",
   "metadata": {
    "colab_type": "text",
    "id": "Ax6g2C8SVp_M"
   },
   "source": [
    "ВАРИАНТ 2"
   ]
  },
  {
   "cell_type": "code",
   "execution_count": null,
   "metadata": {},
   "outputs": [],
   "source": []
  },
  {
   "cell_type": "code",
   "execution_count": 65,
   "metadata": {},
   "outputs": [
    {
     "data": {
      "text/plain": [
       "<AxesSubplot:>"
      ]
     },
     "execution_count": 65,
     "metadata": {},
     "output_type": "execute_result"
    },
    {
     "data": {
      "image/png": "[encoded data removed]",
      "text/plain": [
       "<Figure size 432x288 with 1 Axes>"
      ]
     },
     "metadata": {
      "needs_background": "light"
     },
     "output_type": "display_data"
    }
   ],
   "source": [
    "# График с самыми популярными жанрами (столбцы)\n",
    "data_gen.genres.value_counts().plot(kind=\"bar\", grid=False)"
   ]
  },
  {
   "cell_type": "markdown",
   "metadata": {
    "colab_type": "text",
    "id": "T9_bPWpkVp_Q"
   },
   "source": [
    "# 12. Фильмы какого жанра чаще всего становятся прибыльными? "
   ]
  },
  {
   "cell_type": "code",
   "execution_count": 51,
   "metadata": {},
   "outputs": [],
   "source": [
    "answers['12'] = 'Drama'"
   ]
  },
  {
   "cell_type": "code",
   "execution_count": 52,
   "metadata": {
    "colab": {},
    "colab_type": "code",
    "id": "Tmt8MaK1Vp_R"
   },
   "outputs": [
    {
     "data": {
      "text/plain": [
       "Drama              560\n",
       "Comedy             551\n",
       "Thriller           446\n",
       "Action             444\n",
       "Adventure          337\n",
       "Romance            242\n",
       "Crime              231\n",
       "Family             226\n",
       "Science Fiction    195\n",
       "Fantasy            188\n",
       "Horror             150\n",
       "Animation          120\n",
       "Mystery            119\n",
       "Music               47\n",
       "History             46\n",
       "War                 41\n",
       "Western             12\n",
       "Documentary          7\n",
       "Name: genres, dtype: int64"
      ]
     },
     "execution_count": 52,
     "metadata": {},
     "output_type": "execute_result"
    }
   ],
   "source": [
    "data_gen[data_gen.profit > 0].genres.value_counts()"
   ]
  },
  {
   "cell_type": "markdown",
   "metadata": {
    "colab_type": "text",
    "id": "0F23bgsDVp_U"
   },
   "source": [
    "# 13. У какого режиссера самые большие суммарные кассовые сбооры?"
   ]
  },
  {
   "cell_type": "code",
   "execution_count": 53,
   "metadata": {},
   "outputs": [],
   "source": [
    "answers['13'] = 'Peter Jackson'"
   ]
  },
  {
   "cell_type": "code",
   "execution_count": 107,
   "metadata": {
    "colab": {},
    "colab_type": "code",
    "id": "K6Z3J8ygVp_X"
   },
   "outputs": [
    {
     "data": {
      "text/plain": [
       "director\n",
       "David Yates          4154295625\n",
       "Christopher Nolan    4167548502\n",
       "Peter Jackson        6490593685\n",
       "Name: revenue, dtype: int64"
      ]
     },
     "execution_count": 107,
     "metadata": {},
     "output_type": "execute_result"
    }
   ],
   "source": [
    "data_dir.groupby(\"director\")[\"revenue\"].sum().sort_values().tail(3)"
   ]
  },
  {
   "cell_type": "code",
   "execution_count": null,
   "metadata": {},
   "outputs": [],
   "source": [
    "# График с самыми тратящими (budget) / учпешными (profit) режиссерами (столбцы горизонтально)"
   ]
  },
  {
   "cell_type": "markdown",
   "metadata": {
    "colab_type": "text",
    "id": "PsYC9FgRVp_a"
   },
   "source": [
    "# 14. Какой режисер снял больше всего фильмов в стиле Action?"
   ]
  },
  {
   "cell_type": "code",
   "execution_count": 55,
   "metadata": {},
   "outputs": [],
   "source": [
    "answers['14'] = 'Robert Rodriguez'"
   ]
  },
  {
   "cell_type": "code",
   "execution_count": 56,
   "metadata": {
    "colab": {},
    "colab_type": "code",
    "id": "wd2M-wHeVp_b"
   },
   "outputs": [
    {
     "data": {
      "text/plain": [
       "Robert Rodriguez      9\n",
       "Paul W.S. Anderson    7\n",
       "Michael Bay           7\n",
       "Ridley Scott          6\n",
       "Antoine Fuqua         6\n",
       "Name: director, dtype: int64"
      ]
     },
     "execution_count": 56,
     "metadata": {},
     "output_type": "execute_result"
    }
   ],
   "source": [
    "data_dir_action.director.value_counts().head()"
   ]
  },
  {
   "cell_type": "markdown",
   "metadata": {
    "colab_type": "text",
    "id": "PQ0KciD7Vp_f"
   },
   "source": [
    "# 15. Фильмы с каким актером принесли самые высокие кассовые сборы в 2012 году? "
   ]
  },
  {
   "cell_type": "code",
   "execution_count": 57,
   "metadata": {},
   "outputs": [],
   "source": [
    "answers['15'] = 'Chris Hemsworth'"
   ]
  },
  {
   "cell_type": "code",
   "execution_count": 58,
   "metadata": {
    "colab": {},
    "colab_type": "code",
    "id": "aga62oeKVp_g"
   },
   "outputs": [
    {
     "data": {
      "text/plain": [
       "cast\n",
       "Chris Hemsworth      2027450773\n",
       "Denis Leary          1629460639\n",
       "Anne Hathaway        1522851057\n",
       "Chris Evans          1519557910\n",
       "Robert Downey Jr.    1519557910\n",
       "Name: revenue, dtype: int64"
      ]
     },
     "execution_count": 58,
     "metadata": {},
     "output_type": "execute_result"
    }
   ],
   "source": [
    "data_cast[data_cast.release_year == 2012].groupby(\"cast\")[\"revenue\"].sum().sort_values(ascending=False).head()"
   ]
  },
  {
   "cell_type": "markdown",
   "metadata": {
    "colab_type": "text",
    "id": "mWHyyL7QVp_j"
   },
   "source": [
    "# 16. Какой актер снялся в большем количестве высокобюджетных фильмов?"
   ]
  },
  {
   "cell_type": "code",
   "execution_count": 59,
   "metadata": {},
   "outputs": [],
   "source": [
    "answers['16'] = '_____'"
   ]
  },
  {
   "cell_type": "code",
   "execution_count": 83,
   "metadata": {
    "colab": {},
    "colab_type": "code",
    "id": "qQtmHKTFVp_k"
   },
   "outputs": [
    {
     "data": {
      "text/plain": [
       "cast\n",
       "Matt Damon           18\n",
       "Adam Sandler         17\n",
       "Angelina Jolie       16\n",
       "Eddie Murphy         15\n",
       "Samuel L. Jackson    15\n",
       "Name: original_title, dtype: int64"
      ]
     },
     "execution_count": 83,
     "metadata": {},
     "output_type": "execute_result"
    }
   ],
   "source": [
    "# высокобюджетный: revenue > revenue.mean()\n",
    "data_cast[data_cast.budget > data_cast.budget.mean()].groupby(\"cast\")[\"original_title\"].count().sort_values(ascending=False).head()"
   ]
  },
  {
   "cell_type": "code",
   "execution_count": 61,
   "metadata": {},
   "outputs": [
    {
     "data": {
      "text/plain": [
       "14"
      ]
     },
     "execution_count": 61,
     "metadata": {},
     "output_type": "execute_result"
    }
   ],
   "source": [
    "data_cast[(data_cast.revenue > data_cast.revenue.mean()) & (data_cast.cast.str\"Tom Cruise\")].original_title.count()"
   ]
  },
  {
   "cell_type": "code",
   "execution_count": null,
   "metadata": {},
   "outputs": [],
   "source": [
    "# График самых часто снимающихся актеров\n"
   ]
  },
  {
   "cell_type": "code",
   "execution_count": null,
   "metadata": {},
   "outputs": [],
   "source": [
    "# График самых прибыльных актеров"
   ]
  },
  {
   "cell_type": "markdown",
   "metadata": {
    "colab_type": "text",
    "id": "NIh6AaW5Vp_n"
   },
   "source": [
    "# 17. В фильмах какого жанра больше всего снимался Nicolas Cage? "
   ]
  },
  {
   "cell_type": "code",
   "execution_count": 299,
   "metadata": {},
   "outputs": [],
   "source": [
    "answers['17'] = 'Action'"
   ]
  },
  {
   "cell_type": "code",
   "execution_count": 300,
   "metadata": {
    "colab": {},
    "colab_type": "code",
    "id": "H74SJDIBVp_n"
   },
   "outputs": [
    {
     "data": {
      "text/plain": [
       "Action             17\n",
       "Thriller           15\n",
       "Drama              12\n",
       "Crime              10\n",
       "Fantasy             8\n",
       "Adventure           7\n",
       "Comedy              6\n",
       "Science Fiction     4\n",
       "Mystery             3\n",
       "Animation           3\n",
       "Family              3\n",
       "History             2\n",
       "Horror              1\n",
       "Romance             1\n",
       "War                 1\n",
       "Name: genres, dtype: int64"
      ]
     },
     "execution_count": 300,
     "metadata": {},
     "output_type": "execute_result"
    }
   ],
   "source": [
    "data_gen_cage.genres.value_counts()"
   ]
  },
  {
   "cell_type": "markdown",
   "metadata": {
    "colab_type": "text",
    "id": "RqOmPRfWVp_q"
   },
   "source": [
    "# 18. Самый убыточный фильм от Paramount Pictures"
   ]
  },
  {
   "cell_type": "code",
   "execution_count": 301,
   "metadata": {
    "colab": {},
    "colab_type": "code",
    "id": "9E_B0Y96Vp_r"
   },
   "outputs": [],
   "source": [
    "answers['18'] = 'K-19: The Widowmaker'"
   ]
  },
  {
   "cell_type": "code",
   "execution_count": 302,
   "metadata": {},
   "outputs": [
    {
     "data": {
      "text/plain": [
       "original_title\n",
       "K-19: The Widowmaker                                  -64831034\n",
       "Timeline                                              -60519261\n",
       "Next                                                  -51788987\n",
       "Alfie                                                 -46604061\n",
       "Twisted                                               -24805000\n",
       "                                                        ...    \n",
       "Mission: Impossible - Ghost Protocol                  549713380\n",
       "Transformers                                          559709780\n",
       "Indiana Jones and the Kingdom of the Crystal Skull    601636033\n",
       "Transformers: Revenge of the Fallen                   686297228\n",
       "Transformers: Dark of the Moon                        928746996\n",
       "Name: profit, Length: 122, dtype: int64"
      ]
     },
     "execution_count": 302,
     "metadata": {},
     "output_type": "execute_result"
    }
   ],
   "source": [
    "data_comp[data_comp.production_companies == \"Paramount Pictures\"].groupby(\"original_title\")[\"profit\"].sum().sort_values()"
   ]
  },
  {
   "cell_type": "markdown",
   "metadata": {
    "colab_type": "text",
    "id": "vS8Ur6ddVp_u"
   },
   "source": [
    "# 19. Какой год стал самым успешным по суммарным кассовым сборам?"
   ]
  },
  {
   "cell_type": "code",
   "execution_count": 303,
   "metadata": {},
   "outputs": [],
   "source": [
    "answers['19'] = '2015'"
   ]
  },
  {
   "cell_type": "code",
   "execution_count": 304,
   "metadata": {
    "colab": {},
    "colab_type": "code",
    "id": "Dnbt4GdIVp_v"
   },
   "outputs": [
    {
     "data": {
      "text/plain": [
       "release_year\n",
       "2015    25449202382\n",
       "2014    23405862953\n",
       "2013    23213799791\n",
       "2012    23079001687\n",
       "2011    22676791872\n",
       "Name: revenue, dtype: int64"
      ]
     },
     "execution_count": 304,
     "metadata": {},
     "output_type": "execute_result"
    }
   ],
   "source": [
    "data_new.groupby(\"release_year\")[\"revenue\"].sum().sort_values(ascending=False).head()"
   ]
  },
  {
   "cell_type": "markdown",
   "metadata": {
    "colab": {},
    "colab_type": "code",
    "id": "wgVu02DEVp_0"
   },
   "source": [
    "# 20. Какой самый прибыльный год для студии Warner Bros?"
   ]
  },
  {
   "cell_type": "code",
   "execution_count": 305,
   "metadata": {},
   "outputs": [],
   "source": [
    "answers['20'] = '2014'"
   ]
  },
  {
   "cell_type": "code",
   "execution_count": null,
   "metadata": {},
   "outputs": [],
   "source": []
  },
  {
   "cell_type": "code",
   "execution_count": 82,
   "metadata": {},
   "outputs": [
    {
     "data": {
      "text/plain": [
       "release_year\n",
       "2014    2292949646\n",
       "2007    2201675217\n",
       "2008    2134595031\n",
       "2010    1974712985\n",
       "2011    1871393682\n",
       "Name: profit, dtype: int64"
      ]
     },
     "execution_count": 82,
     "metadata": {},
     "output_type": "execute_result"
    }
   ],
   "source": [
    "data_comp[data_comp.production_companies.str.contains(\"Warner Bros.\")].groupby(\"release_year\")[\"profit\"].sum().sort_values(ascending=False).head()"
   ]
  },
  {
   "cell_type": "markdown",
   "metadata": {
    "colab_type": "text",
    "id": "8Im1S2HRVp_4"
   },
   "source": [
    "# 21. В каком месяце за все годы суммарно вышло больше всего фильмов?"
   ]
  },
  {
   "cell_type": "code",
   "execution_count": 307,
   "metadata": {},
   "outputs": [],
   "source": [
    "answers['21'] = 'Сентябрь'"
   ]
  },
  {
   "cell_type": "code",
   "execution_count": 308,
   "metadata": {},
   "outputs": [
    {
     "data": {
      "text/plain": [
       "9     227\n",
       "12    190\n",
       "10    186\n",
       "8     161\n",
       "3     156\n",
       "4     149\n",
       "6     147\n",
       "11    146\n",
       "7     142\n",
       "5     140\n",
       "2     135\n",
       "1     110\n",
       "Name: month, dtype: int64"
      ]
     },
     "execution_count": 308,
     "metadata": {},
     "output_type": "execute_result"
    }
   ],
   "source": [
    "data_new.month.value_counts()"
   ]
  },
  {
   "cell_type": "markdown",
   "metadata": {},
   "source": [
    "##### ВАРИАНТ 2"
   ]
  },
  {
   "cell_type": "code",
   "execution_count": 309,
   "metadata": {
    "colab": {},
    "colab_type": "code",
    "id": "lev6TH7gVp_4"
   },
   "outputs": [
    {
     "data": {
      "text/plain": [
       "month\n",
       "9     227\n",
       "12    190\n",
       "10    186\n",
       "8     161\n",
       "3     156\n",
       "4     149\n",
       "6     147\n",
       "11    146\n",
       "7     142\n",
       "5     140\n",
       "2     135\n",
       "1     110\n",
       "Name: original_title, dtype: int64"
      ]
     },
     "execution_count": 309,
     "metadata": {},
     "output_type": "execute_result"
    }
   ],
   "source": [
    "data_new.groupby(\"month\")[\"original_title\"].count().sort_values(ascending=False)"
   ]
  },
  {
   "cell_type": "markdown",
   "metadata": {
    "colab_type": "text",
    "id": "uAJsZ_NeVp_7"
   },
   "source": [
    "# 22. Сколько суммарно вышло фильмов летом? (за июнь, июль, август)"
   ]
  },
  {
   "cell_type": "code",
   "execution_count": 310,
   "metadata": {},
   "outputs": [],
   "source": [
    "answers['22'] = '450'"
   ]
  },
  {
   "cell_type": "code",
   "execution_count": 311,
   "metadata": {
    "colab": {},
    "colab_type": "code",
    "id": "Aa-hEREoVp_8"
   },
   "outputs": [
    {
     "data": {
      "text/plain": [
       "450"
      ]
     },
     "execution_count": 311,
     "metadata": {},
     "output_type": "execute_result"
    }
   ],
   "source": [
    "data_new[data_new.month.isin([6, 7, 8])].original_title.count()"
   ]
  },
  {
   "cell_type": "markdown",
   "metadata": {
    "colab_type": "text",
    "id": "G94ppOY1VqAA"
   },
   "source": [
    "# 23. Для какого режиссера зима – самое продуктивное время года? "
   ]
  },
  {
   "cell_type": "code",
   "execution_count": 313,
   "metadata": {},
   "outputs": [],
   "source": [
    "answers['23'] = 'Aaron Seltzer'"
   ]
  },
  {
   "cell_type": "code",
   "execution_count": 85,
   "metadata": {
    "colab": {},
    "colab_type": "code",
    "id": "RhNTsamuVqAB"
   },
   "outputs": [
    {
     "data": {
      "text/plain": [
       "director\n",
       "Peter Jackson        7\n",
       "Steven Soderbergh    6\n",
       "Clint Eastwood       6\n",
       "Martin Scorsese      4\n",
       "Name: original_title, dtype: int64"
      ]
     },
     "execution_count": 85,
     "metadata": {},
     "output_type": "execute_result"
    }
   ],
   "source": [
    "data_dir[data_dir.month.isin([12, 1, 2])].groupby(\"director\")[\"original_title\"].count().sort_values(ascending=False)[:4]"
   ]
  },
  {
   "cell_type": "markdown",
   "metadata": {
    "colab_type": "text",
    "id": "RBo0JVjVVqAF"
   },
   "source": [
    "# 24. Какая студия дает самые длинные названия своим фильмам по количеству символов?"
   ]
  },
  {
   "cell_type": "code",
   "execution_count": 0,
   "metadata": {
    "colab": {},
    "colab_type": "code",
    "id": "QRGS8L0iVqAG"
   },
   "outputs": [],
   "source": [
    "answers['24'] = 'Four By Two Productions'"
   ]
  },
  {
   "cell_type": "code",
   "execution_count": 361,
   "metadata": {},
   "outputs": [
    {
     "data": {
      "text/plain": [
       "production_companies\n",
       "Four By Two Productions       83.0\n",
       "Jim Henson Company, The       59.0\n",
       "Dos Corazones                 47.0\n",
       "Museum Canada Productions     46.0\n",
       "Polsky Films                  46.0\n",
       "                              ... \n",
       "Everest Entertainment          3.0\n",
       "Berlanti Productions           3.0\n",
       "XM2 Productions                2.0\n",
       "Ixtlan Productions             2.0\n",
       "Global Entertainment Group     2.0\n",
       "Name: title_len, Length: 1771, dtype: float64"
      ]
     },
     "execution_count": 361,
     "metadata": {},
     "output_type": "execute_result"
    }
   ],
   "source": [
    "data_comp.groupby(\"production_companies\")[\"title_len\"].mean().sort_values(ascending=False)"
   ]
  },
  {
   "cell_type": "markdown",
   "metadata": {
    "colab_type": "text",
    "id": "9G0hbvR7VqAK"
   },
   "source": [
    "# 25. Описание фильмов какой студии в среднем самые длинные по количеству слов?"
   ]
  },
  {
   "cell_type": "code",
   "execution_count": 0,
   "metadata": {
    "colab": {},
    "colab_type": "code",
    "id": "Ge2GsLNxVqAK"
   },
   "outputs": [],
   "source": [
    "answers['25'] = 'Midnight Picture Show'"
   ]
  },
  {
   "cell_type": "code",
   "execution_count": 371,
   "metadata": {},
   "outputs": [
    {
     "data": {
      "text/plain": [
       "production_companies\n",
       "Midnight Picture Show                    175.0\n",
       "Room 9 Entertainment                     161.0\n",
       "98 MPH Productions                       159.0\n",
       "Heineken Branded Entertainment           159.0\n",
       "Brookwell-McNamara Entertainment         156.0\n",
       "                                         ...  \n",
       "London Boulevard                          13.0\n",
       "Phantom Four                              13.0\n",
       "Henceforth                                13.0\n",
       "Empire Pictures                           11.0\n",
       "Motion Picture Corporation of America     11.0\n",
       "Name: overview_len, Length: 1771, dtype: float64"
      ]
     },
     "execution_count": 371,
     "metadata": {},
     "output_type": "execute_result"
    }
   ],
   "source": [
    "data_comp.groupby(\"production_companies\")[\"overview_len\"].mean().sort_values(ascending=False)"
   ]
  },
  {
   "cell_type": "markdown",
   "metadata": {
    "colab_type": "text",
    "id": "FJ1AFt90VqAP"
   },
   "source": [
    "# 26. Какие фильмы входят в 1 процент лучших по рейтингу? \n",
    "по vote_average"
   ]
  },
  {
   "cell_type": "code",
   "execution_count": null,
   "metadata": {},
   "outputs": [],
   "source": [
    "answers['26'] = 'Inside Out, The Dark Knight, 12 Years a Slave'"
   ]
  },
  {
   "cell_type": "code",
   "execution_count": 328,
   "metadata": {
    "colab": {},
    "colab_type": "code",
    "id": "8qmJVq4CVqAQ"
   },
   "outputs": [
    {
     "data": {
      "text/plain": [
       "['The Dark Knight',\n",
       " 'Interstellar',\n",
       " 'The Imitation Game',\n",
       " 'Inside Out',\n",
       " 'Room',\n",
       " 'The Wolf of Wall Street',\n",
       " 'Gone Girl',\n",
       " '12 Years a Slave',\n",
       " 'Guardians of the Galaxy',\n",
       " 'The Lord of the Rings: The Return of the King',\n",
       " 'Memento',\n",
       " 'Inception',\n",
       " 'The Pianist',\n",
       " 'The Grand Budapest Hotel',\n",
       " 'Her',\n",
       " 'Spotlight',\n",
       " 'Big Hero 6',\n",
       " 'The Fault in Our Stars']"
      ]
     },
     "execution_count": 328,
     "metadata": {},
     "output_type": "execute_result"
    }
   ],
   "source": [
    "list(data_new.sort_values(\"vote_average\", ascending=False).head(int(0.01*len(data_new)))[\"original_title\"])"
   ]
  },
  {
   "cell_type": "markdown",
   "metadata": {
    "colab_type": "text",
    "id": "MdXsUXbCVqAV"
   },
   "source": [
    "# 27. Какие актеры чаще всего снимаются в одном фильме вместе?\n"
   ]
  },
  {
   "cell_type": "code",
   "execution_count": 105,
   "metadata": {},
   "outputs": [],
   "source": [
    "answers['27'] = 'Daniel Radcliffe & Rupert Grint'"
   ]
  },
  {
   "cell_type": "code",
   "execution_count": 98,
   "metadata": {},
   "outputs": [
    {
     "ename": "TypeError",
     "evalue": "unhashable type: 'set'",
     "output_type": "error",
     "traceback": [
      "\u001b[1;31m---------------------------------------------------------------------------\u001b[0m",
      "\u001b[1;31mTypeError\u001b[0m                                 Traceback (most recent call last)",
      "\u001b[1;32mpandas\\_libs\\hashtable_class_helper.pxi\u001b[0m in \u001b[0;36mpandas._libs.hashtable.PyObjectHashTable.map_locations\u001b[1;34m()\u001b[0m\n",
      "\u001b[1;31mTypeError\u001b[0m: unhashable type: 'set'"
     ]
    },
    {
     "name": "stderr",
     "output_type": "stream",
     "text": [
      "Exception ignored in: 'pandas._libs.index.IndexEngine._call_map_locations'\n",
      "Traceback (most recent call last):\n",
      "  File \"pandas\\_libs\\hashtable_class_helper.pxi\", line 1709, in pandas._libs.hashtable.PyObjectHashTable.map_locations\n",
      "TypeError: unhashable type: 'set'\n"
     ]
    },
    {
     "data": {
      "text/plain": [
       "{Rupert Grint, Emma Watson, Daniel Radcliffe}                                             25\n",
       "{Helena Bonham Carter, Johnny Depp}                                                       15\n",
       "{Ben Stiller, Owen Wilson}                                                                13\n",
       "{Adam Sandler, Kevin James}                                                                8\n",
       "{Julia Roberts, Brad Pitt}                                                                 5\n",
       "{Robert Pattinson, Kristen Stewart, Peter Facinelli, Taylor Lautner}                       5\n",
       "{Chris Evans, Scarlett Johansson}                                                          5\n",
       "{Matt Damon, George Clooney}                                                               5\n",
       "{Paul Rudd, Steve Carell}                                                                  5\n",
       "{Ian McKellen, Hugh Jackman}                                                               4\n",
       "{Brad Pitt, George Clooney}                                                                4\n",
       "{Tobin Bell, Costas Mandylor, Betsy Russell}                                               4\n",
       "{Vin Diesel, Paul Walker, Jordana Brewster}                                                4\n",
       "{Elizabeth Banks, Liam Hemsworth, Jennifer Lawrence, Woody Harrelson, Josh Hutcherson}     3\n",
       "{Denzel Washington, Kimberly Elise}                                                        3\n",
       "{Kal Penn, John Cho, Neil Patrick Harris}                                                  3\n",
       "{James Franco, Tobey Maguire, Kirsten Dunst}                                               3\n",
       "{Tim Allen, Spencer Breslin}                                                               3\n",
       "{Woody Harrelson, Liam Hemsworth, Josh Hutcherson, Jennifer Lawrence}                      3\n",
       "{Paul Rudd, Seth Rogen}                                                                    3\n",
       "{Julie Andrews, Antonio Banderas, Cameron Diaz, Eddie Murphy, Mike Myers}                  3\n",
       "{Emily Blunt, Jason Segel}                                                                 3\n",
       "{Marlon Wayans, Shawn Wayans}                                                              3\n",
       "{Eddie Murphy, Cameron Diaz, Mike Myers}                                                   3\n",
       "{Owen Wilson, Vince Vaughn}                                                                3\n",
       "{Ving Rhames, Tom Cruise}                                                                  3\n",
       "{Halle Berry, Hugh Jackman, Ian McKellen, Patrick Stewart, Famke Janssen}                  3\n",
       "{Gary Oldman, Michael Caine, Christian Bale}                                               3\n",
       "{Bradley Cooper, Justin Bartha}                                                            3\n",
       "{Paul Bettany, Johnny Depp}                                                                3\n",
       "{Jason Statham, FranÃ§ois BerlÃ©and}                                                       3\n",
       "{Philip Seymour Hoffman, Amy Adams}                                                        3\n",
       "{Judi Dench, Daniel Craig}                                                                 3\n",
       "{Kate Winslet, Jude Law}                                                                   3\n",
       "{Maggie Grace, Liam Neeson, Famke Janssen}                                                 3\n",
       "{Carla Gugino, Alexa PenaVega, Daryl Sabara, Antonio Banderas}                             3\n",
       "{Justin Long, David Cross, Jason Lee}                                                      3\n",
       "{Halle Berry, Hugh Jackman}                                                                3\n",
       "{Jonah Hill, Seth Rogen}                                                                   3\n",
       "{Jennifer Connelly, Russell Crowe}                                                         3\n",
       "{Ian McKellen, Patrick Stewart, Hugh Jackman}                                              3\n",
       "{Michael Caine, Christian Bale}                                                            3\n",
       "{Ian McKellen, Liv Tyler, Viggo Mortensen, Orlando Bloom, Elijah Wood}                     3\n",
       "{Georgie Henley, Skandar Keynes}                                                           2\n",
       "{Giovanni Ribisi, Mark Wahlberg}                                                           2\n",
       "{Robert Downey Jr., Mark Ruffalo}                                                          2\n",
       "{Hayden Christensen, Samuel L. Jackson}                                                    2\n",
       "{Paul Rudd, Jason Segel}                                                                   2\n",
       "{Ron Perlman, John Hurt}                                                                   2\n",
       "{Robin Williams, Ben Stiller}                                                              2\n",
       "{Robert Downey Jr., Gwyneth Paltrow}                                                       2\n",
       "{Bradley Cooper, Ken Jeong}                                                                2\n",
       "{Jason Bateman, Jennifer Aniston}                                                          2\n",
       "{Ian McKellen, Richard Armitage, Martin Freeman}                                           2\n",
       "{Ashley Greene, Kristen Stewart, Robert Pattinson, Taylor Lautner}                         2\n",
       "{Adam Sandler, Steve Buscemi}                                                              2\n",
       "{Ashley Judd, Morgan Freeman}                                                              2\n",
       "{Michelle Rodriguez, Vin Diesel, Paul Walker}                                              2\n",
       "{James Franco, Seth Rogen}                                                                 2\n",
       "{Angelina Jolie, Jack Black}                                                               2\n",
       "{Geoffrey Rush, Johnny Depp}                                                               2\n",
       "{Rupert Grint, Ralph Fiennes, Emma Watson, Daniel Radcliffe}                               2\n",
       "{Vin Diesel, Paul Walker, Dwayne Johnson}                                                  2\n",
       "{Mike Epps, Ice Cube}                                                                      2\n",
       "{Josh Duhamel, Shia LaBeouf}                                                               2\n",
       "{Bruce Willis, Kevin Pollak}                                                               2\n",
       "{Bill Nighy, Johnny Depp}                                                                  2\n",
       "{Bradley Cooper, Zach Galifianakis, Justin Bartha, Ed Helms}                               2\n",
       "{Danny McBride, James Franco}                                                              2\n",
       "{Jonah Hill, Jay Baruchel}                                                                 2\n",
       "{Sylvester Stallone, Arnold Schwarzenegger}                                                2\n",
       "{Robert Downey Jr., Scarlett Johansson}                                                    2\n",
       "{John Leguizamo, Denis Leary, Ray Romano}                                                  2\n",
       "{Jason Segel, Paul Rudd, Leslie Mann}                                                      1\n",
       "{John Goodman, George Clooney}                                                             1\n",
       "{Anne Hathaway, Jake Gyllenhaal}                                                           1\n",
       "{Michelle Rodriguez, Vin Diesel, Paul Walker, Jordana Brewster}                            1\n",
       "{Kaya Scodelario, Dylan O'Brien}                                                           1\n",
       "{Jamie Bell, Daniel Craig}                                                                 1\n",
       "{Jonah Hill, Dave Franco, Channing Tatum}                                                  1\n",
       "{Steve Carell, Will Arnett}                                                                1\n",
       "{Bradley Cooper, Zoe Saldana}                                                              1\n",
       "{Andy Serkis, Judy Greer}                                                                  1\n",
       "{Delroy Lindo, Edgar RamÃ­rez}                                                             1\n",
       "{Matt Damon, Greg Kinnear}                                                                 1\n",
       "{Julia Roberts, Paul Giamatti}                                                             1\n",
       "{Richard Gere, Susan Sarandon}                                                             1\n",
       "{Radha Mitchell, Sean Bean}                                                                1\n",
       "{Woody Harrelson, Jesse Eisenberg}                                                         1\n",
       "{Armin Mueller-Stahl, Naomi Watts}                                                         1\n",
       "{Seth Rogen, Leslie Mann}                                                                  1\n",
       "{Josh Brolin, Sean Penn}                                                                   1\n",
       "{Adam Sandler, Drew Barrymore}                                                             1\n",
       "{Vin Diesel, Karl Urban}                                                                   1\n",
       "{Julia Roberts, Clive Owen}                                                                1\n",
       "{Gary Oldman, Tom Hardy}                                                                   1\n",
       "{Bruce Willis, Robin Wright}                                                               1\n",
       "{Milla Jovovich, Ali Larter}                                                               1\n",
       "{Carrie-Anne Moss, Kit Harington}                                                          1\n",
       "{Giovanni Ribisi, Johnny Depp}                                                             1\n",
       "{Jason Bateman, Kristen Wiig}                                                              1\n",
       "{Orlando Bloom, Geoffrey Rush, Keira Knightley, Johnny Depp}                               1\n",
       "{John Goodman, Steve Buscemi, Billy Crystal}                                               1\n",
       "{Colin Firth, RenÃ©e Zellweger, Hugh Grant, Jim Broadbent, Gemma Jones}                    1\n",
       "{Stanley Tucci, Meryl Streep}                                                              1\n",
       "{Amy Adams, Christian Bale}                                                                1\n",
       "{Chris Evans, Sebastian Stan}                                                              1\n",
       "{Kristen Stewart, Robert Pattinson, Taylor Lautner}                                        1\n",
       "{Daryl Hannah, Uma Thurman, David Carradine}                                               1\n",
       "{Rebel Wilson, Anna Kendrick, Skylar Astin, Brittany Snow}                                 1\n",
       "{Anthony Hopkins, Tom Hiddleston, Natalie Portman, Chris Hemsworth}                        1\n",
       "{Julia Roberts, Andy GarcÃ­a, Brad Pitt, George Clooney}                                   1\n",
       "{Kristen Stewart, Robert Pattinson, Billy Burke, Taylor Lautner}                           1\n",
       "{Jill Scott, Malik Yoba, Tyler Perry, Janet Jackson}                                       1\n",
       "{Orlando Bloom, Johnny Depp, Keira Knightley, Jack Davenport}                              1\n",
       "{Andy Serkis, Simon Pegg}                                                                  1\n",
       "{Bradley Cooper, Sienna Miller}                                                            1\n",
       "{Stephen Boss, Ryan Guzman}                                                                1\n",
       "{Milla Jovovich, Sienna Guillory}                                                          1\n",
       "{Amanda Peet, Jack Black}                                                                  1\n",
       "{Jeff Daniels, Cheryl Hines}                                                               1\n",
       "{Zac Efron, Dave Franco}                                                                   1\n",
       "{Samuel L. Jackson, Scarlett Johansson}                                                    1\n",
       "{Tyler Mane, Scout Taylor-Compton, Brad Dourif}                                            1\n",
       "{Ryan Gosling, Steve Carell}                                                               1\n",
       "{Amy Adams, Meryl Streep}                                                                  1\n",
       "{Scott Speedman, Kate Beckinsale, Shane Brolly}                                            1\n",
       "{Paul Giamatti, Clive Owen}                                                                1\n",
       "{Kerry Washington, Samuel L. Jackson}                                                      1\n",
       "{Jason Sudeikis, Charlie Day, Jennifer Aniston, Jason Bateman}                             1\n",
       "{Russell Brand, Steve Carell}                                                              1\n",
       "{Timothy Spall, Helena Bonham Carter}                                                      1\n",
       "{Emily Blunt, Meryl Streep}                                                                1\n",
       "{Joseph Gordon-Levitt, Seth Rogen}                                                         1\n",
       "{Ewan McGregor, Naomi Watts}                                                               1\n",
       "{Naomi Watts, Sean Penn}                                                                   1\n",
       "{Bradley Cooper, Jessica Biel}                                                             1\n",
       "{Seann William Scott, John Leguizamo, Denis Leary, Ray Romano}                             1\n",
       "{Hugh Jackman, Amanda Seyfried}                                                            1\n",
       "{Elizabeth Banks, Paul Rudd}                                                               1\n",
       "{Orlando Bloom, Keira Knightley, Bill Nighy, Johnny Depp}                                  1\n",
       "{Reese Witherspoon, Paul Rudd}                                                             1\n",
       "{Mark Ruffalo, Robert Downey Jr., Scarlett Johansson, Chris Hemsworth, Chris Evans}        1\n",
       "{Angelina Jolie, John Malkovich}                                                           1\n",
       "{Joanna Lumley, Cary Elwes}                                                                1\n",
       "{Megan Fox, Tyrese Gibson, Josh Duhamel, Shia LaBeouf}                                     1\n",
       "{Seth MacFarlane, Giovanni Ribisi, Mark Wahlberg}                                          1\n",
       "{Jessica Alba, Josh Brolin}                                                                1\n",
       "{Tommy Lee Jones, Josh Brolin}                                                             1\n",
       "{Eva Green, Daniel Craig}                                                                  1\n",
       "{Bruce Willis, Bill Murray}                                                                1\n",
       "{Matt Damon, Chris Cooper}                                                                 1\n",
       "{John Goodman, Alan Arkin}                                                                 1\n",
       "{Ralph Fiennes, Daniel Craig}                                                              1\n",
       "{William Hurt, Sigourney Weaver}                                                           1\n",
       "{Eva Mendes, Mark Wahlberg}                                                                1\n",
       "{Freddie Prinze Jr., Matthew Lillard}                                                      1\n",
       "{Rosario Dawson, Jessica Alba}                                                             1\n",
       "{Kerry Washington, Jamie Foxx}                                                             1\n",
       "{Richard Jenkins, Jim Carrey}                                                              1\n",
       "{John C. Reilly, Jennifer Connelly}                                                        1\n",
       "{Danny McBride, James Franco, Seth Rogen}                                                  1\n",
       "{Vin Diesel, Paul Walker, Dwayne Johnson, Jordana Brewster}                                1\n",
       "{Lizzy Caplan, Seth Rogen}                                                                 1\n",
       "{Adam Sandler, Selena Gomez, Steve Buscemi, Kevin James}                                   1\n",
       "{Adam Sandler, Andy Samberg}                                                               1\n",
       "{Leonardo DiCaprio, Tom Hardy}                                                             1\n",
       "{Bradley Cooper, Jennifer Lawrence}                                                        1\n",
       "{Steve Martin, Jim Parsons}                                                                1\n",
       "{Ansel Elgort, Shailene Woodley}                                                           1\n",
       "{Mila Kunis, Mark Wahlberg}                                                                1\n",
       "{Jonah Hill, Jay Baruchel, Gerard Butler}                                                  1\n",
       "{Robert Patrick, Joaquin Phoenix}                                                          1\n",
       "{Emma Thompson, Kelly Macdonald}                                                           1\n",
       "{Tyrese Gibson, Jordana Brewster}                                                          1\n",
       "{Ralph Fiennes, Helena Bonham Carter}                                                      1\n",
       "{Michael B. Jordan, Miles Teller}                                                          1\n",
       "{Bill Nighy, Kate Beckinsale}                                                              1\n",
       "{Carla Gugino, Robert De Niro}                                                             1\n",
       "{Ashley Greene, Peter Facinelli, Taylor Lautner, Kristen Stewart, Robert Pattinson}        1\n",
       "{Patrick Stewart, James McAvoy}                                                            1\n",
       "{Russell Brand, Jason Segel}                                                               1\n",
       "{Eva Mendes, Nicolas Cage}                                                                 1\n",
       "{Tina Fey, Amy Poehler}                                                                    1\n",
       "{Chris Rock, Ben Stiller, David Schwimmer, Sacha Baron Cohen}                              1\n",
       "{Stanley Tucci, Mark Wahlberg}                                                             1\n",
       "{Cate Blanchett, Bill Murray}                                                              1\n",
       "{Jonah Hill, Brad Pitt}                                                                    1\n",
       "{Logan Lerman, Emma Watson}                                                                1\n",
       "{Rose Byrne, Bobby Cannavale}                                                              1\n",
       "{Maya Rudolph, Kristen Wiig}                                                               1\n",
       "{Eva Mendes, Samuel L. Jackson}                                                            1\n",
       "{David Wenham, Lena Headey}                                                                1\n",
       "{Amy Adams, Joaquin Phoenix}                                                               1\n",
       "{Dwayne Johnson, Mark Wahlberg}                                                            1\n",
       "{Michael Fassbender, James McAvoy}                                                         1\n",
       "{Adam Sandler, John Turturro}                                                              1\n",
       "{Seth Rogen, Steve Carell}                                                                 1\n",
       "{Jason Statham, Dolph Lundgren, Sylvester Stallone}                                        1\n",
       "{Logan Lerman, Russell Crowe}                                                              1\n",
       "{Ben Foster, Mark Wahlberg}                                                                1\n",
       "{Tobin Bell, Betsy Russell, Costas Mandylor, Scott Patterson}                              1\n",
       "{Michelle Rodriguez, Danny Trejo}                                                          1\n",
       "{Jeff Bridges, Kevin Spacey}                                                               1\n",
       "{Thomas Ian Nicholas, Alyson Hannigan, Seann William Scott, Jason Biggs}                   1\n",
       "{Cameron Diaz, Jason Segel}                                                                1\n",
       "{Anne Hathaway, Michael Caine}                                                             1\n",
       "{PenÃ©lope Cruz, Javier Bardem}                                                            1\n",
       "{Adam Sandler, Salma Hayek}                                                                1\n",
       "{Seann William Scott, Dwayne Johnson}                                                      1\n",
       "{Adam Sandler, Kevin James, David Spade}                                                   1\n",
       "{Robert De Niro, Rene Russo}                                                               1\n",
       "{Melissa Leo, Christian Bale}                                                              1\n",
       "{Steve Carell, Jim Carrey}                                                                 1\n",
       "{George Clooney, Cate Blanchett}                                                           1\n",
       "{Kate Winslet, Shailene Woodley, Miles Teller, Theo James}                                 1\n",
       "{Justin Long, Matt Dillon}                                                                 1\n",
       "{Joel Kinnaman, Gary Oldman}                                                               1\n",
       "{Robert Downey Jr., Jamie Foxx}                                                            1\n",
       "{Kristin Davis, Kim Cattrall, Chris Noth, Sarah Jessica Parker, Cynthia Nixon}             1\n",
       "{Matt Damon, Brad Pitt, George Clooney}                                                    1\n",
       "{Bruce Willis, Kevin Pollak, Matthew Perry}                                                1\n",
       "{Matthew McConaughey, Bill Paxton}                                                         1\n",
       "{Jennifer Garner, Jason Bateman}                                                           1\n",
       "{Jada Pinkett Smith, Chris Rock, Ben Stiller, David Schwimmer}                             1\n",
       "{John Goodman, Patrick Warburton}                                                          1\n",
       "{Michael Ealy, Regina Hall, Kevin Hart}                                                    1\n",
       "{Lizzy Caplan, James Franco}                                                               1\n",
       "{Daniel Craig, Nicole Kidman}                                                              1\n",
       "{Teri Polo, Robert De Niro, Ben Stiller}                                                   1\n",
       "{Alec Baldwin, Cate Blanchett}                                                             1\n",
       "{Stanley Tucci, Jennifer Lopez}                                                            1\n",
       "{Hank Azaria, Neil Patrick Harris}                                                         1\n",
       "{Anthony Hopkins, Hope Davis}                                                              1\n",
       "{Harry Connick Jr., Ashley Judd, Nathan Gamble, Morgan Freeman}                            1\n",
       "{Wesley Snipes, Kris Kristofferson}                                                        1\n",
       "{Steve Zahn, Rachael Harris, Robert Capron, Zachary Gordon}                                1\n",
       "{Jeffrey Tambor, Ron Perlman, John Hurt, Selma Blair}                                      1\n",
       "{Julia Roberts, Meryl Streep}                                                              1\n",
       "{Tom Hollander, Cate Blanchett}                                                            1\n",
       "{Charlize Theron, Robert De Niro}                                                          1\n",
       "{Thomas Kretschmann, Adrien Brody}                                                         1\n",
       "{Bill Nighy, Judi Dench}                                                                   1\n",
       "{Julia Roberts, Tom Hanks}                                                                 1\n",
       "{Milla Jovovich, Oded Fehr}                                                                1\n",
       "{Jeremy Renner, Simon Pegg, Tom Cruise}                                                    1\n",
       "{Barbra Streisand, Robert De Niro, Ben Stiller, Dustin Hoffman}                            1\n",
       "{Brad Pitt, Cate Blanchett}                                                                1\n",
       "{Jaden Smith, Will Smith}                                                                  1\n",
       "{Salma Hayek, Antonio Banderas}                                                            1\n",
       "{Jason Statham, Sylvester Stallone, Arnold Schwarzenegger}                                 1\n",
       "{Steve Zahn, Devon Bostick, Zachary Gordon, Rachael Harris}                                1\n",
       "{Diane Kruger, Nicolas Cage, Jon Voight}                                                   1\n",
       "{James Gandolfini, Brad Pitt}                                                              1\n",
       "{Cameron Diaz, Tom Cruise}                                                                 1\n",
       "{Tommy Lee Jones, Will Smith}                                                              1\n",
       "{Emma Thompson, Rhys Ifans}                                                                1\n",
       "{Giovanni Ribisi, Angelina Jolie}                                                          1\n",
       "{Chris Rock, Ben Stiller, David Schwimmer}                                                 1\n",
       "{Don Cheadle, Robert Downey Jr., Gwyneth Paltrow}                                          1\n",
       "{Ben Stiller, Vince Vaughn}                                                                1\n",
       "{Sanaa Lathan, Morris Chestnut}                                                            1\n",
       "{David Koechner, Paul Rudd, Steve Carell, Will Ferrell, Christina Applegate}               1\n",
       "{George W. Bush, Michael Moore}                                                            1\n",
       "{Bill Nighy, Michael Sheen, Shane Brolly}                                                  1\n",
       "{Jon Favreau, Vince Vaughn}                                                                1\n",
       "{Bam Margera, Johnny Knoxville, Steve-O, Chris Pontius}                                    1\n",
       "{Willem Dafoe, Christian Bale}                                                             1\n",
       "{Viggo Mortensen, Vincent Cassel}                                                          1\n",
       "{John Cusack, Amanda Peet}                                                                 1\n",
       "{Amanda Detmer, Jason Biggs}                                                               1\n",
       "{John Witherspoon, Ice Cube, Mike Epps, Don Curry}                                         1\n",
       "{Zac Efron, Imogen Poots}                                                                  1\n",
       "{Will Ferrell, Mary Steenburgen}                                                           1\n",
       "{Christopher Plummer, Jennifer Connelly}                                                   1\n",
       "{Jessica Alba, Michael Chiklis, Ioan Gruffudd, Chris Evans, Julian McMahon}                1\n",
       "{Bruce Willis, Cole Hauser}                                                                1\n",
       "{Glenn Close, Patrick Warburton}                                                           1\n",
       "{Will Ferrell, John C. Reilly}                                                             1\n",
       "{Richard Jenkins, Channing Tatum}                                                          1\n",
       "{Michelle Rodriguez, Matthew Davis}                                                        1\n",
       "{Will Ferrell, Mark Wahlberg}                                                              1\n",
       "{Kate Hudson, Matthew McConaughey}                                                         1\n",
       "{Steve Zahn, Rachael Harris, Zachary Gordon}                                               1\n",
       "{Tyrese Gibson, Paul Walker}                                                               1\n",
       "{Kerry Washington, Chris Rock}                                                             1\n",
       "{John Travolta, Vince Vaughn}                                                              1\n",
       "{Tilda Swinton, George Clooney}                                                            1\n",
       "{Freddie Highmore, Johnny Depp}                                                            1\n",
       "{Julianne Moore, Liam Neeson}                                                              1\n",
       "{Philip Seymour Hoffman, Marisa Tomei}                                                     1\n",
       "{James McAvoy, Maggie Smith, Julie Walters}                                                1\n",
       "{Anthony Anderson, DMX}                                                                    1\n",
       "{Chris Cooper, Meryl Streep}                                                               1\n",
       "{Megan Fox, Will Arnett}                                                                   1\n",
       "{Charlize Theron, Will Smith}                                                              1\n",
       "{Bill Fagerbakke, Rodger Bumpass, Tom Kenny, Clancy Brown, Carolyn Lawrence}               1\n",
       "{Chris Pine, Zachary Quinto}                                                               1\n",
       "{Nicolas Cage, Meryl Streep}                                                               1\n",
       "{Georgie Henley, Anna Popplewell, Skandar Keynes, William Moseley}                         1\n",
       "{Mark Rolston, Tobin Bell, Costas Mandylor, Betsy Russell}                                 1\n",
       "{Isaiah Washington, DMX}                                                                   1\n",
       "{Robert Downey Jr., Jude Law}                                                              1\n",
       "{Ice Cube, Sean Patrick Thomas, Cedric the Entertainer}                                    1\n",
       "{Hugh Jackman, David Wenham}                                                               1\n",
       "{Ralph Fiennes, Daniel Radcliffe, Rupert Grint, Michael Gambon, Emma Watson}               1\n",
       "{Sprague Grayden, Katie Featherston}                                                       1\n",
       "{Mike Epps, Anna Maria Horsford}                                                           1\n",
       "{Richard Jenkins, George Clooney}                                                          1\n",
       "{Amy Adams, Tom Hanks}                                                                     1\n",
       "{Brandon T. Jackson, Alexandra Daddario, Logan Lerman}                                     1\n",
       "{Reese Witherspoon, Owen Wilson}                                                           1\n",
       "{PenÃ©lope Cruz, Johnny Depp}                                                              1\n",
       "{George Clooney, Catherine Zeta-Jones}                                                     1\n",
       "{Rachel Weisz, Jude Law}                                                                   1\n",
       "{Lynn Collins, Danny Huston}                                                               1\n",
       "{Eugene Levy, Steve Martin}                                                                1\n",
       "{Heath Ledger, Shannyn Sossamon}                                                           1\n",
       "{Ben Whishaw, Brendan Gleeson}                                                             1\n",
       "{Frankie Muniz, Cynthia Stevenson}                                                         1\n",
       "{Christine Taylor, Ben Stiller}                                                            1\n",
       "{Emma Thompson, Maggie Gyllenhaal}                                                         1\n",
       "{Jason Statham, Efren Ramirez, Amy Smart, Dwight Yoakam}                                   1\n",
       "{Guy Pearce, Ben Kingsley}                                                                 1\n",
       "{Chris Tucker, Jackie Chan}                                                                1\n",
       "{Marisa Tomei, Ryan Gosling}                                                               1\n",
       "{Anne Hathaway, Jesse Eisenberg, Leslie Mann}                                              1\n",
       "{Jeff Anderson, Brian O'Halloran, Jason Mewes, Kevin Smith}                                1\n",
       "{Billy Crudup, Marion Cotillard}                                                           1\n",
       "{Daniel Craig, Jeffrey Wright}                                                             1\n",
       "{Sienna Miller, Channing Tatum}                                                            1\n",
       "{Emma Stone, Ryan Gosling}                                                                 1\n",
       "{Jessica Chastain, Mia Wasikowska}                                                         1\n",
       "{Ewan McGregor, RenÃ©e Zellweger}                                                          1\n",
       "{Matt Damon, Julia Stiles}                                                                 1\n",
       "{Stanley Tucci, Susan Sarandon}                                                            1\n",
       "{Carrie-Anne Moss, Laurence Fishburne, Keanu Reeves, Hugo Weaving}                         1\n",
       "{Brendan Fraser, John Hannah}                                                              1\n",
       "{Ashton Kutcher, Katherine Heigl}                                                          1\n",
       "{Simon Rex, Charlie Sheen}                                                                 1\n",
       "{Angelina Jolie, Noah Taylor}                                                              1\n",
       "{Bill Hader, James Caan, Anna Faris}                                                       1\n",
       "{Regina King, Jennifer Coolidge}                                                           1\n",
       "{Russell Crowe, Paul Bettany}                                                              1\n",
       "{Ben Whishaw, Michael Gambon}                                                              1\n",
       "{Lucy Liu, Cameron Diaz, Drew Barrymore}                                                   1\n",
       "{Chris Klein, Thomas Ian Nicholas, Seann William Scott, Jason Biggs}                       1\n",
       "{Michael Caine, Emily Mortimer}                                                            1\n",
       "{Ali Larter, Tony Todd}                                                                    1\n",
       "{Thomas Ian Nicholas, Eddie Kaye Thomas, Seann William Scott, Jason Biggs}                 1\n",
       "{Emma Stone, Andrew Garfield}                                                              1\n",
       "{Steve Martin, Bonnie Hunt, Tom Welling}                                                   1\n",
       "{Anne Hathaway, Julie Andrews, Heather Matarazzo, HÃ©ctor Elizondo}                        1\n",
       "{Jet Li, DMX}                                                                              1\n",
       "{Jim Broadbent, Ewan McGregor}                                                             1\n",
       "{Brian Cox, Franka Potente, Matt Damon}                                                    1\n",
       "{Denzel Washington, Paula Patton}                                                          1\n",
       "{Bradley Cooper, Robert De Niro}                                                           1\n",
       "{George Clooney, Bill Murray}                                                              1\n",
       "{Robin Williams, Johnny A. Sanchez}                                                        1\n",
       "{Robin Williams, Ben Stiller, Owen Wilson}                                                 1\n",
       "{Stellan SkarsgÃ¥rd, Colin Firth}                                                          1\n",
       "{Seth Green, Breckin Meyer}                                                                1\n",
       "{Alfred Molina, Johnny Depp}                                                               1\n",
       "{Jason Statham, Sylvester Stallone}                                                        1\n",
       "{Boyd Holbrook, Liam Neeson}                                                               1\n",
       "{Ralph Fiennes, Sam Worthington, Liam Neeson}                                              1\n",
       "{Adam Campbell, Jennifer Coolidge}                                                         1\n",
       "{Jason Bateman, Jon Favreau}                                                               1\n",
       "{Asa Butterfield, Ben Kingsley}                                                            1\n",
       "{Martin Sheen, Leonardo DiCaprio}                                                          1\n",
       "{Adam Sandler, Chris Rock}                                                                 1\n",
       "{Jason Bateman, Ben Affleck}                                                               1\n",
       "{Tilda Swinton, Brad Pitt}                                                                 1\n",
       "{Courteney Cox, David Arquette, Neve Campbell}                                             1\n",
       "{Matthew McConaughey, William H. Macy}                                                     1\n",
       "{Kevin James, Raini Rodriguez}                                                             1\n",
       "{Amy Smart, Breckin Meyer}                                                                 1\n",
       "{Hayden Christensen, Natalie Portman, Ian McDiarmid, Ewan McGregor, Samuel L. Jackson}     1\n",
       "{Robert De Niro, Michelle Pfeiffer}                                                        1\n",
       "{Nia Long, Martin Lawrence}                                                                1\n",
       "{Larry the Cable Guy, Owen Wilson}                                                         1\n",
       "{Gwyneth Paltrow, Jude Law}                                                                1\n",
       "{Ian McKellen, Jean Reno}                                                                  1\n",
       "{PenÃ©lope Cruz, Cameron Diaz}                                                             1\n",
       "{Jason Sudeikis, Colin Farrell}                                                            1\n",
       "{Milla Jovovich, Michelle Rodriguez}                                                       1\n",
       "{Robert De Niro, Ben Stiller, Owen Wilson}                                                 1\n",
       "{Angelina Jolie, Dustin Hoffman, Jack Black, Jackie Chan}                                  1\n",
       "{Reese Witherspoon, Joaquin Phoenix}                                                       1\n",
       "{Steve Zahn, Matthew McConaughey}                                                          1\n",
       "{Edward Norton, Robert De Niro}                                                            1\n",
       "{Richard Armitage, Martin Freeman, Ian McKellen, Graham McTavish, Ken Stott}               1\n",
       "{Regina Hall, Anna Faris}                                                                  1\n",
       "{Robert De Niro, Katherine Heigl}                                                          1\n",
       "{Zach Galifianakis, Justin Bartha, Ed Helms, Bradley Cooper, Ken Jeong}                    1\n",
       "{Mark Strong, Russell Crowe}                                                               1\n",
       "{Matt Damon, Scott Bakula}                                                                 1\n",
       "{Nick Frost, Simon Pegg}                                                                   1\n",
       "{Carla Gugino, Dwayne Johnson}                                                             1\n",
       "{Charlize Theron, Guy Pearce}                                                              1\n",
       "dtype: int64"
      ]
     },
     "execution_count": 98,
     "metadata": {},
     "output_type": "execute_result"
    }
   ],
   "source": [
    "data_cast_ser_int.value_counts(ascending=False)"
   ]
  },
  {
   "cell_type": "code",
   "execution_count": 99,
   "metadata": {},
   "outputs": [],
   "source": [
    "# Чтобы jupyter не ругался, можно перевести множества в строки\n",
    "data_cast_ser_int_str = data_cast_ser_int.apply(lambda x: \"|\".join(list(x))).value_counts(ascending=False)"
   ]
  },
  {
   "cell_type": "code",
   "execution_count": 100,
   "metadata": {},
   "outputs": [
    {
     "data": {
      "text/plain": [
       "Rupert Grint|Emma Watson|Daniel Radcliffe    25\n",
       "Helena Bonham Carter|Johnny Depp             15\n",
       "Ben Stiller|Owen Wilson                      13\n",
       "Adam Sandler|Kevin James                      8\n",
       "Paul Rudd|Steve Carell                        5\n",
       "dtype: int64"
      ]
     },
     "execution_count": 100,
     "metadata": {},
     "output_type": "execute_result"
    }
   ],
   "source": [
    "data_cast_ser_int_str.head()"
   ]
  },
  {
   "cell_type": "markdown",
   "metadata": {},
   "source": [
    "#### Примечание к вопросу 27"
   ]
  },
  {
   "cell_type": "code",
   "execution_count": 104,
   "metadata": {},
   "outputs": [
    {
     "data": {
      "text/html": [
       "<div>\n",
       "<style scoped>\n",
       "    .dataframe tbody tr th:only-of-type {\n",
       "        vertical-align: middle;\n",
       "    }\n",
       "\n",
       "    .dataframe tbody tr th {\n",
       "        vertical-align: top;\n",
       "    }\n",
       "\n",
       "    .dataframe thead th {\n",
       "        text-align: right;\n",
       "    }\n",
       "</style>\n",
       "<table border=\"1\" class=\"dataframe\">\n",
       "  <thead>\n",
       "    <tr style=\"text-align: right;\">\n",
       "      <th></th>\n",
       "      <th>imdb_id</th>\n",
       "      <th>budget</th>\n",
       "      <th>revenue</th>\n",
       "      <th>original_title</th>\n",
       "      <th>cast</th>\n",
       "      <th>director</th>\n",
       "      <th>tagline</th>\n",
       "      <th>overview</th>\n",
       "      <th>runtime</th>\n",
       "      <th>genres</th>\n",
       "      <th>production_companies</th>\n",
       "      <th>release_date</th>\n",
       "      <th>vote_average</th>\n",
       "      <th>release_year</th>\n",
       "      <th>month</th>\n",
       "      <th>profit</th>\n",
       "    </tr>\n",
       "  </thead>\n",
       "  <tbody>\n",
       "    <tr>\n",
       "      <th>242</th>\n",
       "      <td>tt0417741</td>\n",
       "      <td>250000000</td>\n",
       "      <td>933959197</td>\n",
       "      <td>Harry Potter and the Half-Blood Prince</td>\n",
       "      <td>Daniel Radcliffe|Rupert Grint|Emma Watson|Tom ...</td>\n",
       "      <td>David Yates</td>\n",
       "      <td>Dark Secrets Revealed</td>\n",
       "      <td>As Harry begins his sixth year at Hogwarts, he...</td>\n",
       "      <td>153</td>\n",
       "      <td>Adventure|Fantasy|Family</td>\n",
       "      <td>Warner Bros.|Heyday Films</td>\n",
       "      <td>2009-07-07</td>\n",
       "      <td>7.3</td>\n",
       "      <td>2009</td>\n",
       "      <td>7</td>\n",
       "      <td>683959197</td>\n",
       "    </tr>\n",
       "    <tr>\n",
       "      <th>374</th>\n",
       "      <td>tt0926084</td>\n",
       "      <td>250000000</td>\n",
       "      <td>954305868</td>\n",
       "      <td>Harry Potter and the Deathly Hallows: Part 1</td>\n",
       "      <td>Daniel Radcliffe|Emma Watson|Rupert Grint|Ralp...</td>\n",
       "      <td>David Yates</td>\n",
       "      <td>One Wayâ€¦ One Fateâ€¦ One Hero.</td>\n",
       "      <td>Harry, Ron and Hermione walk away from their l...</td>\n",
       "      <td>146</td>\n",
       "      <td>Adventure|Fantasy|Family</td>\n",
       "      <td>Warner Bros.|Heyday Films</td>\n",
       "      <td>2010-10-17</td>\n",
       "      <td>7.4</td>\n",
       "      <td>2010</td>\n",
       "      <td>10</td>\n",
       "      <td>704305868</td>\n",
       "    </tr>\n",
       "    <tr>\n",
       "      <th>497</th>\n",
       "      <td>tt0241527</td>\n",
       "      <td>125000000</td>\n",
       "      <td>976475550</td>\n",
       "      <td>Harry Potter and the Philosopher's Stone</td>\n",
       "      <td>Daniel Radcliffe|Rupert Grint|Emma Watson|John...</td>\n",
       "      <td>Chris Columbus</td>\n",
       "      <td>Let the Magic Begin.</td>\n",
       "      <td>Harry Potter has lived under the stairs at his...</td>\n",
       "      <td>152</td>\n",
       "      <td>Adventure|Fantasy|Family</td>\n",
       "      <td>1492 Pictures|Warner Bros.|Heyday Films</td>\n",
       "      <td>2001-11-16</td>\n",
       "      <td>7.2</td>\n",
       "      <td>2001</td>\n",
       "      <td>11</td>\n",
       "      <td>851475550</td>\n",
       "    </tr>\n",
       "    <tr>\n",
       "      <th>722</th>\n",
       "      <td>tt1201607</td>\n",
       "      <td>125000000</td>\n",
       "      <td>1327817822</td>\n",
       "      <td>Harry Potter and the Deathly Hallows: Part 2</td>\n",
       "      <td>Daniel Radcliffe|Rupert Grint|Emma Watson|Alan...</td>\n",
       "      <td>David Yates</td>\n",
       "      <td>It all ends here.</td>\n",
       "      <td>Harry, Ron and Hermione continue their quest t...</td>\n",
       "      <td>130</td>\n",
       "      <td>Adventure|Family|Fantasy</td>\n",
       "      <td>Warner Bros.|Heyday Films|Moving Picture Compa...</td>\n",
       "      <td>2011-07-07</td>\n",
       "      <td>7.7</td>\n",
       "      <td>2011</td>\n",
       "      <td>7</td>\n",
       "      <td>1202817822</td>\n",
       "    </tr>\n",
       "    <tr>\n",
       "      <th>864</th>\n",
       "      <td>tt0295297</td>\n",
       "      <td>100000000</td>\n",
       "      <td>876688482</td>\n",
       "      <td>Harry Potter and the Chamber of Secrets</td>\n",
       "      <td>Daniel Radcliffe|Rupert Grint|Emma Watson|Kenn...</td>\n",
       "      <td>Chris Columbus</td>\n",
       "      <td>Hogwarts is back in session.</td>\n",
       "      <td>Ignoring threats to his life, Harry returns to...</td>\n",
       "      <td>161</td>\n",
       "      <td>Adventure|Fantasy|Family</td>\n",
       "      <td>1492 Pictures|Warner Bros.|Heyday Films|MIRACL...</td>\n",
       "      <td>2002-11-13</td>\n",
       "      <td>7.2</td>\n",
       "      <td>2002</td>\n",
       "      <td>11</td>\n",
       "      <td>776688482</td>\n",
       "    </tr>\n",
       "    <tr>\n",
       "      <th>1312</th>\n",
       "      <td>tt0330373</td>\n",
       "      <td>150000000</td>\n",
       "      <td>895921036</td>\n",
       "      <td>Harry Potter and the Goblet of Fire</td>\n",
       "      <td>Daniel Radcliffe|Rupert Grint|Emma Watson|Ralp...</td>\n",
       "      <td>Mike Newell</td>\n",
       "      <td>Dark And Difficult Times Lie Ahead.</td>\n",
       "      <td>Harry starts his fourth year at Hogwarts, comp...</td>\n",
       "      <td>157</td>\n",
       "      <td>Adventure|Fantasy|Family</td>\n",
       "      <td>Patalex IV Productions Limited|Warner Bros.|He...</td>\n",
       "      <td>2005-11-05</td>\n",
       "      <td>7.3</td>\n",
       "      <td>2005</td>\n",
       "      <td>11</td>\n",
       "      <td>745921036</td>\n",
       "    </tr>\n",
       "    <tr>\n",
       "      <th>1560</th>\n",
       "      <td>tt0304141</td>\n",
       "      <td>130000000</td>\n",
       "      <td>789804554</td>\n",
       "      <td>Harry Potter and the Prisoner of Azkaban</td>\n",
       "      <td>Daniel Radcliffe|Rupert Grint|Emma Watson|Gary...</td>\n",
       "      <td>Alfonso Cuarón</td>\n",
       "      <td>Something wicked this way comes.</td>\n",
       "      <td>Harry, Ron and Hermione return to Hogwarts for...</td>\n",
       "      <td>141</td>\n",
       "      <td>Adventure|Fantasy|Family</td>\n",
       "      <td>1492 Pictures|Warner Bros.|Heyday Films|P of A...</td>\n",
       "      <td>2004-05-31</td>\n",
       "      <td>7.4</td>\n",
       "      <td>2004</td>\n",
       "      <td>5</td>\n",
       "      <td>659804554</td>\n",
       "    </tr>\n",
       "    <tr>\n",
       "      <th>1670</th>\n",
       "      <td>tt0373889</td>\n",
       "      <td>150000000</td>\n",
       "      <td>938212738</td>\n",
       "      <td>Harry Potter and the Order of the Phoenix</td>\n",
       "      <td>Daniel Radcliffe|Rupert Grint|Emma Watson|Mich...</td>\n",
       "      <td>David Yates</td>\n",
       "      <td>Evil Must Be Confronted.</td>\n",
       "      <td>Returning for his fifth year of study at Hogwa...</td>\n",
       "      <td>138</td>\n",
       "      <td>Adventure|Fantasy|Family|Mystery</td>\n",
       "      <td>Cool Music|Warner Bros.|Heyday Films|Harry Pot...</td>\n",
       "      <td>2007-06-28</td>\n",
       "      <td>7.2</td>\n",
       "      <td>2007</td>\n",
       "      <td>6</td>\n",
       "      <td>788212738</td>\n",
       "    </tr>\n",
       "  </tbody>\n",
       "</table>\n",
       "</div>"
      ],
      "text/plain": [
       "        imdb_id     budget     revenue  \\\n",
       "242   tt0417741  250000000   933959197   \n",
       "374   tt0926084  250000000   954305868   \n",
       "497   tt0241527  125000000   976475550   \n",
       "722   tt1201607  125000000  1327817822   \n",
       "864   tt0295297  100000000   876688482   \n",
       "1312  tt0330373  150000000   895921036   \n",
       "1560  tt0304141  130000000   789804554   \n",
       "1670  tt0373889  150000000   938212738   \n",
       "\n",
       "                                    original_title  \\\n",
       "242         Harry Potter and the Half-Blood Prince   \n",
       "374   Harry Potter and the Deathly Hallows: Part 1   \n",
       "497       Harry Potter and the Philosopher's Stone   \n",
       "722   Harry Potter and the Deathly Hallows: Part 2   \n",
       "864        Harry Potter and the Chamber of Secrets   \n",
       "1312           Harry Potter and the Goblet of Fire   \n",
       "1560      Harry Potter and the Prisoner of Azkaban   \n",
       "1670     Harry Potter and the Order of the Phoenix   \n",
       "\n",
       "                                                   cast        director  \\\n",
       "242   Daniel Radcliffe|Rupert Grint|Emma Watson|Tom ...     David Yates   \n",
       "374   Daniel Radcliffe|Emma Watson|Rupert Grint|Ralp...     David Yates   \n",
       "497   Daniel Radcliffe|Rupert Grint|Emma Watson|John...  Chris Columbus   \n",
       "722   Daniel Radcliffe|Rupert Grint|Emma Watson|Alan...     David Yates   \n",
       "864   Daniel Radcliffe|Rupert Grint|Emma Watson|Kenn...  Chris Columbus   \n",
       "1312  Daniel Radcliffe|Rupert Grint|Emma Watson|Ralp...     Mike Newell   \n",
       "1560  Daniel Radcliffe|Rupert Grint|Emma Watson|Gary...  Alfonso Cuarón   \n",
       "1670  Daniel Radcliffe|Rupert Grint|Emma Watson|Mich...     David Yates   \n",
       "\n",
       "                                  tagline  \\\n",
       "242                 Dark Secrets Revealed   \n",
       "374      One Wayâ€¦ One Fateâ€¦ One Hero.   \n",
       "497                  Let the Magic Begin.   \n",
       "722                     It all ends here.   \n",
       "864          Hogwarts is back in session.   \n",
       "1312  Dark And Difficult Times Lie Ahead.   \n",
       "1560     Something wicked this way comes.   \n",
       "1670             Evil Must Be Confronted.   \n",
       "\n",
       "                                               overview  runtime  \\\n",
       "242   As Harry begins his sixth year at Hogwarts, he...      153   \n",
       "374   Harry, Ron and Hermione walk away from their l...      146   \n",
       "497   Harry Potter has lived under the stairs at his...      152   \n",
       "722   Harry, Ron and Hermione continue their quest t...      130   \n",
       "864   Ignoring threats to his life, Harry returns to...      161   \n",
       "1312  Harry starts his fourth year at Hogwarts, comp...      157   \n",
       "1560  Harry, Ron and Hermione return to Hogwarts for...      141   \n",
       "1670  Returning for his fifth year of study at Hogwa...      138   \n",
       "\n",
       "                                genres  \\\n",
       "242           Adventure|Fantasy|Family   \n",
       "374           Adventure|Fantasy|Family   \n",
       "497           Adventure|Fantasy|Family   \n",
       "722           Adventure|Family|Fantasy   \n",
       "864           Adventure|Fantasy|Family   \n",
       "1312          Adventure|Fantasy|Family   \n",
       "1560          Adventure|Fantasy|Family   \n",
       "1670  Adventure|Fantasy|Family|Mystery   \n",
       "\n",
       "                                   production_companies release_date  \\\n",
       "242                           Warner Bros.|Heyday Films   2009-07-07   \n",
       "374                           Warner Bros.|Heyday Films   2010-10-17   \n",
       "497             1492 Pictures|Warner Bros.|Heyday Films   2001-11-16   \n",
       "722   Warner Bros.|Heyday Films|Moving Picture Compa...   2011-07-07   \n",
       "864   1492 Pictures|Warner Bros.|Heyday Films|MIRACL...   2002-11-13   \n",
       "1312  Patalex IV Productions Limited|Warner Bros.|He...   2005-11-05   \n",
       "1560  1492 Pictures|Warner Bros.|Heyday Films|P of A...   2004-05-31   \n",
       "1670  Cool Music|Warner Bros.|Heyday Films|Harry Pot...   2007-06-28   \n",
       "\n",
       "      vote_average  release_year  month      profit  \n",
       "242            7.3          2009      7   683959197  \n",
       "374            7.4          2010     10   704305868  \n",
       "497            7.2          2001     11   851475550  \n",
       "722            7.7          2011      7  1202817822  \n",
       "864            7.2          2002     11   776688482  \n",
       "1312           7.3          2005     11   745921036  \n",
       "1560           7.4          2004      5   659804554  \n",
       "1670           7.2          2007      6   788212738  "
      ]
     },
     "execution_count": 104,
     "metadata": {},
     "output_type": "execute_result"
    }
   ],
   "source": [
    "# Проверим, в скольких фильмах снимались Daniel Radcliffe и Rupert Grint вместе\n",
    "data_radcliffe_grint = data[(data.cast.str.contains(\"Daniel Radcliffe\")) & (data.cast.str.contains(\"Rupert Grint\"))]\n",
    "data_radcliffe_grint"
   ]
  },
  {
   "cell_type": "code",
   "execution_count": null,
   "metadata": {},
   "outputs": [],
   "source": [
    "# Всего в восьми экранизациях романов Дж.Роулинг о Гарри Поттере.\n",
    "# Тогда откуда число 25 в ниших результатах? \n",
    "# Функция \"combinations('ABCD', 2)\" возвращает все парные, неповторяющиеся комбинации для заданных элеметов\n",
    "# В случае с n=8 элементов, должно быть 8! / 2! / (8-2)! = 28 комбинаций.\n",
    "# Мне не удалось выяснить, куда исчезли три комбинации из моих результатов...\n",
    "# К счастью, это не повлияло на правильность ответа."
   ]
  },
  {
   "cell_type": "code",
   "execution_count": null,
   "metadata": {},
   "outputs": [],
   "source": []
  },
  {
   "cell_type": "markdown",
   "metadata": {
    "colab_type": "text",
    "id": "4ymnxEVoVqAW"
   },
   "source": [
    "ВАРИАНТ 2"
   ]
  },
  {
   "cell_type": "markdown",
   "metadata": {
    "colab_type": "text",
    "id": "U0nONFnGVqAX"
   },
   "source": [
    "# Submission"
   ]
  },
  {
   "cell_type": "code",
   "execution_count": 363,
   "metadata": {
    "colab": {},
    "colab_type": "code",
    "id": "IfcaRO9-VqAX",
    "outputId": "0f132912-32bb-4196-c98c-abfbc4ad5a5f"
   },
   "outputs": [
    {
     "data": {
      "text/plain": [
       "{}"
      ]
     },
     "execution_count": 363,
     "metadata": {},
     "output_type": "execute_result"
    }
   ],
   "source": [
    "# в конце можно посмотреть свои ответы к каждому вопросу\n",
    "answers"
   ]
  },
  {
   "cell_type": "code",
   "execution_count": 0,
   "metadata": {
    "colab": {},
    "colab_type": "code",
    "id": "SiRmHPl8VqAd"
   },
   "outputs": [],
   "source": [
    "# и убедиться что ни чего не пропустил)\n",
    "len(answers)"
   ]
  },
  {
   "cell_type": "markdown",
   "metadata": {},
   "source": [
    "## Correlation"
   ]
  },
  {
   "cell_type": "code",
   "execution_count": 81,
   "metadata": {},
   "outputs": [
    {
     "data": {
      "text/plain": [
       "Index(['budget', 'revenue', 'original_title', 'cast', 'director', 'overview',\n",
       "       'runtime', 'genres', 'production_companies', 'release_date',\n",
       "       'vote_average', 'release_year', 'month', 'profit'],\n",
       "      dtype='object')"
      ]
     },
     "execution_count": 81,
     "metadata": {},
     "output_type": "execute_result"
    }
   ],
   "source": [
    "data_new.columns"
   ]
  },
  {
   "cell_type": "code",
   "execution_count": 84,
   "metadata": {},
   "outputs": [
    {
     "data": {
      "text/html": [
       "<div>\n",
       "<style scoped>\n",
       "    .dataframe tbody tr th:only-of-type {\n",
       "        vertical-align: middle;\n",
       "    }\n",
       "\n",
       "    .dataframe tbody tr th {\n",
       "        vertical-align: top;\n",
       "    }\n",
       "\n",
       "    .dataframe thead th {\n",
       "        text-align: right;\n",
       "    }\n",
       "</style>\n",
       "<table border=\"1\" class=\"dataframe\">\n",
       "  <thead>\n",
       "    <tr style=\"text-align: right;\">\n",
       "      <th></th>\n",
       "      <th>vote_average</th>\n",
       "      <th>budget</th>\n",
       "      <th>revenue</th>\n",
       "      <th>profit</th>\n",
       "      <th>runtime</th>\n",
       "    </tr>\n",
       "  </thead>\n",
       "  <tbody>\n",
       "    <tr>\n",
       "      <th>vote_average</th>\n",
       "      <td>1.000000</td>\n",
       "      <td>0.113705</td>\n",
       "      <td>0.297734</td>\n",
       "      <td>0.318943</td>\n",
       "      <td>0.440861</td>\n",
       "    </tr>\n",
       "    <tr>\n",
       "      <th>budget</th>\n",
       "      <td>0.113705</td>\n",
       "      <td>1.000000</td>\n",
       "      <td>0.715614</td>\n",
       "      <td>0.573724</td>\n",
       "      <td>0.343517</td>\n",
       "    </tr>\n",
       "    <tr>\n",
       "      <th>revenue</th>\n",
       "      <td>0.297734</td>\n",
       "      <td>0.715614</td>\n",
       "      <td>1.000000</td>\n",
       "      <td>0.982667</td>\n",
       "      <td>0.312830</td>\n",
       "    </tr>\n",
       "    <tr>\n",
       "      <th>profit</th>\n",
       "      <td>0.318943</td>\n",
       "      <td>0.573724</td>\n",
       "      <td>0.982667</td>\n",
       "      <td>1.000000</td>\n",
       "      <td>0.275652</td>\n",
       "    </tr>\n",
       "    <tr>\n",
       "      <th>runtime</th>\n",
       "      <td>0.440861</td>\n",
       "      <td>0.343517</td>\n",
       "      <td>0.312830</td>\n",
       "      <td>0.275652</td>\n",
       "      <td>1.000000</td>\n",
       "    </tr>\n",
       "  </tbody>\n",
       "</table>\n",
       "</div>"
      ],
      "text/plain": [
       "              vote_average    budget   revenue    profit   runtime\n",
       "vote_average      1.000000  0.113705  0.297734  0.318943  0.440861\n",
       "budget            0.113705  1.000000  0.715614  0.573724  0.343517\n",
       "revenue           0.297734  0.715614  1.000000  0.982667  0.312830\n",
       "profit            0.318943  0.573724  0.982667  1.000000  0.275652\n",
       "runtime           0.440861  0.343517  0.312830  0.275652  1.000000"
      ]
     },
     "execution_count": 84,
     "metadata": {},
     "output_type": "execute_result"
    }
   ],
   "source": [
    "# Идея: задать рейтинг актерам / режиссерам по суммарной выручке от фильмов, в кот они снимались. \n",
    "# Как этот показатель повлияет на другие параметры\n",
    "# Задать рейтинг жанрам по их популярности: action: 10 и тд\n",
    "data_new[[\"vote_average\", \"budget\", \"revenue\", \"profit\", \"runtime\"]].corr()"
   ]
  },
  {
   "cell_type": "code",
   "execution_count": null,
   "metadata": {},
   "outputs": [],
   "source": []
  },
  {
   "cell_type": "code",
   "execution_count": null,
   "metadata": {},
   "outputs": [],
   "source": []
  }
 ],
 "metadata": {
  "colab": {
   "name": "Copy of [SF-DST] Movies IMBD v4.1 TEMPLATE.ipynb",
   "provenance": []
  },
  "kernelspec": {
   "display_name": "Python 3",
   "language": "python",
   "name": "python3"
  },
  "language_info": {
   "codemirror_mode": {
    "name": "ipython",
    "version": 3
   },
   "file_extension": ".py",
   "mimetype": "text/x-python",
   "name": "python",
   "nbconvert_exporter": "python",
   "pygments_lexer": "ipython3",
   "version": "3.8.3"
  }
 },
 "nbformat": 4,
 "nbformat_minor": 1
}
